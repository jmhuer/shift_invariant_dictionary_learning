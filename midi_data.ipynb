{
  "nbformat": 4,
  "nbformat_minor": 0,
  "metadata": {
    "colab": {
      "name": "Untitled16.ipynb",
      "provenance": [],
      "collapsed_sections": [],
      "authorship_tag": "ABX9TyPtmDBzbz3mvjazJjwDy0cx",
      "include_colab_link": true
    },
    "kernelspec": {
      "name": "python3",
      "display_name": "Python 3"
    },
    "language_info": {
      "name": "python"
    }
  },
  "cells": [
    {
      "cell_type": "markdown",
      "metadata": {
        "id": "view-in-github",
        "colab_type": "text"
      },
      "source": [
        "<a href=\"https://colab.research.google.com/github/jmhuer/shift_invariant_dictionary_learning/blob/main/midi_data.ipynb\" target=\"_parent\"><img src=\"https://colab.research.google.com/assets/colab-badge.svg\" alt=\"Open In Colab\"/></a>"
      ]
    },
    {
      "cell_type": "code",
      "metadata": {
        "colab": {
          "base_uri": "https://localhost:8080/"
        },
        "id": "gVwAtHBm4Lnh",
        "outputId": "cbc04753-6b9e-406a-b739-82f485600ff1"
      },
      "source": [
        "!pip install magenta\n",
        "\n",
        "!apt-get update -qq && apt-get install -qq libfluidsynth1 fluid-soundfont-gm build-essential libasound2-dev libjack-dev\n",
        "!pip install -q pyfluidsynth\n"
      ],
      "execution_count": 31,
      "outputs": [
        {
          "output_type": "stream",
          "text": [
            "Reading package lists... Done\n",
            "Building dependency tree       \n",
            "Reading state information... Done\n",
            "E: Unable to locate package pyfluidsynth\n"
          ],
          "name": "stdout"
        }
      ]
    },
    {
      "cell_type": "code",
      "metadata": {
        "colab": {
          "base_uri": "https://localhost:8080/"
        },
        "id": "2xCjtE1B7uDC",
        "outputId": "cfaf498c-c73b-456c-fd57-4632e7b03f79"
      },
      "source": [
        "\n",
        "# Allow python to pick up the newly-installed fluidsynth lib.\n",
        "# This is only needed for the hosted Colab environment.\n",
        "import ctypes.util\n",
        "orig_ctypes_util_find_library = ctypes.util.find_library\n",
        "def proxy_find_library(lib):\n",
        "  if lib == 'fluidsynth':\n",
        "    return 'libfluidsynth.so.1'\n",
        "  else:\n",
        "    return orig_ctypes_util_find_library(lib)\n",
        "ctypes.util.find_library = proxy_find_library\n",
        "  \n",
        "print('Importing software libraries...')\n",
        "\n",
        "import copy, warnings, librosa, numpy as np\n",
        "warnings.filterwarnings(\"ignore\", category=DeprecationWarning)\n"
      ],
      "execution_count": 29,
      "outputs": [
        {
          "output_type": "stream",
          "text": [
            "Importing software libraries...\n"
          ],
          "name": "stdout"
        }
      ]
    },
    {
      "cell_type": "code",
      "metadata": {
        "id": "rXa0c-bB2NHQ",
        "colab": {
          "base_uri": "https://localhost:8080/"
        },
        "outputId": "196a2e7f-41bb-480f-bcd3-864a2dc072aa"
      },
      "source": [
        "import tensorflow as tf\n",
        "import tensorflow_datasets as tfds\n",
        "\n",
        "# Colab/Notebook specific stuff\n",
        "import IPython.display\n",
        "from IPython.display import Audio\n",
        "from google.colab import files\n",
        "\n",
        "# Magenta specific stuff\n",
        "from magenta.models.music_vae import configs\n",
        "from magenta.models.music_vae.trained_model import TrainedModel\n",
        "from magenta.models.music_vae import data\n",
        "import note_seq\n",
        "from note_seq import midi_synth\n",
        "from note_seq.sequences_lib import concatenate_sequences\n",
        "from magenta.models.music_vae import configs\n",
        "dc_4bar = configs.CONFIG_MAP['groovae_4bar'].data_converter\n",
        "\n",
        "\n",
        "# tfds works in both Eager and Graph modes\n",
        "# tf.enable_eager_execution()\n",
        "\n",
        "\n",
        "# Quick and dirty way to set midi files to be recognized as drums\n",
        "def set_to_drums(ns):\n",
        "  for n in ns.notes:\n",
        "    n.instrument=9\n",
        "    n.is_drum = True\n",
        "\n",
        "def is_4_4(s):\n",
        "  ts = s.time_signatures[0]\n",
        "  return (ts.numerator == 4 and ts.denominator ==4)\n",
        "\n",
        "# Calculate quantization steps but do not remove microtiming\n",
        "def quantize(s, steps_per_quarter=4):\n",
        "  return note_seq.sequences_lib.quantize_note_sequence(s,steps_per_quarter)\n",
        "\n",
        "\n",
        "def download(note_sequence, filename):\n",
        "  note_seq.sequence_proto_to_midi_file(note_sequence, filename)\n",
        "  files.download(filename)\n",
        "\n",
        "\n",
        "# If a sequence has notes at time before 0.0, scootch them up to 0\n",
        "def start_notes_at_0(s):\n",
        "  for n in s.notes:\n",
        "    if n.start_time < 0:\n",
        "      n.end_time -= n.start_time\n",
        "      n.start_time = 0\n",
        "  return s\n",
        "\n",
        "\n",
        "def preprocess_4bar(s):\n",
        "  return dc_4bar.from_tensors(dc_4bar.to_tensors(s).outputs)[0]\n",
        "\n",
        "\n",
        "def tensor_4bar(s):\n",
        "  return dc_4bar.to_tensors(s).outputs[0]\n",
        "\n",
        "\n",
        "\n",
        "# dataset_4bar = tfds.as_numpy(tfds.load(\n",
        "#     name=\"groove/4bar-midionly\",\n",
        "#     split=tfds.Split.VALIDATION,\n",
        "#     try_gcs=True))\n",
        "\n",
        "\n",
        "\n",
        "# dev_sequences_4bar = [quantize(note_seq.midi_to_note_sequence(features[\"midi\"])) for features in dataset_4bar]\n",
        "# _ = [set_to_drums(s) for s in dev_sequences_4bar]\n",
        "# dev_sequences_4bar = [s for s in dev_sequences_4bar if is_4_4(s) and len(s.notes) > 0 and s.notes[-1].quantized_end_step > note_seq.steps_per_bar_in_quantized_sequence(s)]\n",
        "\n",
        "\n",
        "\n",
        "# download(dev_sequences_4bar[1], \"huhb.mid\")\n",
        "\n",
        "# print(preprocess_4bar(dev_sequences_4bar[1]))\n",
        "# print(\"nrw\\n\\n\\n\", dev_sequences_4bar[1])\n",
        "\n",
        "print(tensor_4bar(dev_sequences_4bar[1]).shape)\n"
      ],
      "execution_count": 55,
      "outputs": [
        {
          "output_type": "stream",
          "text": [
            "(64, 27)\n"
          ],
          "name": "stdout"
        }
      ]
    }
  ]
}