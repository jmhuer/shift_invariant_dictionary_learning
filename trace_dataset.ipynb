{
  "nbformat": 4,
  "nbformat_minor": 0,
  "metadata": {
    "colab": {
      "name": "Untitled13.ipynb",
      "provenance": [],
      "authorship_tag": "ABX9TyMAEcFIYw/8fBKQdiDeVN3u",
      "include_colab_link": true
    },
    "kernelspec": {
      "name": "python3",
      "display_name": "Python 3"
    },
    "language_info": {
      "name": "python"
    }
  },
  "cells": [
    {
      "cell_type": "markdown",
      "metadata": {
        "id": "view-in-github",
        "colab_type": "text"
      },
      "source": [
        "<a href=\"https://colab.research.google.com/github/jmhuer/shift_invariant_dictionary_learning/blob/main/trace_dataset.ipynb\" target=\"_parent\"><img src=\"https://colab.research.google.com/assets/colab-badge.svg\" alt=\"Open In Colab\"/></a>"
      ]
    },
    {
      "cell_type": "code",
      "metadata": {
        "colab": {
          "base_uri": "https://localhost:8080/"
        },
        "id": "qYMrUx8Vog0V",
        "outputId": "b7f045d0-119b-407d-b6da-f6a93c36ffcc"
      },
      "source": [
        "!pip install skorch\n",
        "!pip install tqdm\n",
        "!git clone https://github.com/jmhuer/optimization_tools\n",
        "!pip install alphacsc\n",
        "\n",
        "from optimization_tools.utils import download_gdrive\n",
        "train_data = '1BcbMFSk-dyoBaEvV1Wb9Z00f3j5iCp0G' ##google drive id of excell \n",
        "test_data = \"1dnY7etRMDFvSLAkKUMceWBcuuJLaHnrb\"\n",
        "\n",
        "download_gdrive(train_data)\n",
        "download_gdrive(test_data)"
      ],
      "execution_count": 6,
      "outputs": [
        {
          "output_type": "stream",
          "text": [
            "Requirement already satisfied: skorch in /usr/local/lib/python3.7/dist-packages (0.10.0)\n",
            "Requirement already satisfied: scikit-learn>=0.19.1 in /usr/local/lib/python3.7/dist-packages (from skorch) (0.22.2.post1)\n",
            "Requirement already satisfied: tqdm>=4.14.0 in /usr/local/lib/python3.7/dist-packages (from skorch) (4.41.1)\n",
            "Requirement already satisfied: scipy>=1.1.0 in /usr/local/lib/python3.7/dist-packages (from skorch) (1.4.1)\n",
            "Requirement already satisfied: numpy>=1.13.3 in /usr/local/lib/python3.7/dist-packages (from skorch) (1.19.5)\n",
            "Requirement already satisfied: tabulate>=0.7.7 in /usr/local/lib/python3.7/dist-packages (from skorch) (0.8.9)\n",
            "Requirement already satisfied: joblib>=0.11 in /usr/local/lib/python3.7/dist-packages (from scikit-learn>=0.19.1->skorch) (1.0.1)\n",
            "Requirement already satisfied: tqdm in /usr/local/lib/python3.7/dist-packages (4.41.1)\n",
            "fatal: destination path 'optimization_tools' already exists and is not an empty directory.\n",
            "Requirement already satisfied: alphacsc in /usr/local/lib/python3.7/dist-packages (0.2.2)\n",
            "Requirement already satisfied: joblib in /usr/local/lib/python3.7/dist-packages (from alphacsc) (1.0.1)\n",
            "Requirement already satisfied: numpy in /usr/local/lib/python3.7/dist-packages (from alphacsc) (1.19.5)\n",
            "Requirement already satisfied: matplotlib in /usr/local/lib/python3.7/dist-packages (from alphacsc) (3.2.2)\n",
            "Requirement already satisfied: scikit-learn in /usr/local/lib/python3.7/dist-packages (from alphacsc) (0.22.2.post1)\n",
            "Requirement already satisfied: mne in /usr/local/lib/python3.7/dist-packages (from alphacsc) (0.23.0)\n",
            "Requirement already satisfied: scipy in /usr/local/lib/python3.7/dist-packages (from alphacsc) (1.4.1)\n",
            "Requirement already satisfied: numba in /usr/local/lib/python3.7/dist-packages (from alphacsc) (0.51.2)\n",
            "Requirement already satisfied: python-dateutil>=2.1 in /usr/local/lib/python3.7/dist-packages (from matplotlib->alphacsc) (2.8.1)\n",
            "Requirement already satisfied: cycler>=0.10 in /usr/local/lib/python3.7/dist-packages (from matplotlib->alphacsc) (0.10.0)\n",
            "Requirement already satisfied: pyparsing!=2.0.4,!=2.1.2,!=2.1.6,>=2.0.1 in /usr/local/lib/python3.7/dist-packages (from matplotlib->alphacsc) (2.4.7)\n",
            "Requirement already satisfied: kiwisolver>=1.0.1 in /usr/local/lib/python3.7/dist-packages (from matplotlib->alphacsc) (1.3.1)\n",
            "Requirement already satisfied: llvmlite<0.35,>=0.34.0.dev0 in /usr/local/lib/python3.7/dist-packages (from numba->alphacsc) (0.34.0)\n",
            "Requirement already satisfied: setuptools in /usr/local/lib/python3.7/dist-packages (from numba->alphacsc) (57.0.0)\n",
            "Requirement already satisfied: six>=1.5 in /usr/local/lib/python3.7/dist-packages (from python-dateutil>=2.1->matplotlib->alphacsc) (1.15.0)\n",
            "Downloading...\n",
            "From: https://drive.google.com/uc?id=1BcbMFSk-dyoBaEvV1Wb9Z00f3j5iCp0G\n",
            "To: /content/Trace_TRAIN.xlsx\n",
            "100%|##########| 286k/286k [00:00<00:00, 9.23MB/s]\n",
            "\n",
            "Downloading...\n",
            "From: https://drive.google.com/uc?id=1dnY7etRMDFvSLAkKUMceWBcuuJLaHnrb\n",
            "To: /content/Trace_TEST.xlsx\n",
            "100%|##########| 218k/218k [00:00<00:00, 7.04MB/s]\n",
            "\n"
          ],
          "name": "stdout"
        }
      ]
    },
    {
      "cell_type": "code",
      "metadata": {
        "id": "Xxc28Q4wpq1W"
      },
      "source": [
        "import pandas as pd\n",
        "\n",
        "def open_excel(filename, sheet_name):\n",
        "    excell = pd.ExcelFile(filename)\n",
        "    excell.sheet_names\n",
        "    df = excell.parse(sheet_name)\n",
        "    df.columns = df.columns.map(str)\n",
        "    df = df.dropna().reset_index(drop=True)\n",
        "    return df\n",
        "\n",
        "df = open_excel(\"/content/Trace_TRAIN.xlsx\", \"Trace_TRAIN\")\n",
        "\n",
        "df_test = open_excel(\"/content/Trace_TEST.xlsx\", \"Trace_TEST\")\n",
        "df_test.columns = df_test.columns.map(str)"
      ],
      "execution_count": 7,
      "outputs": []
    },
    {
      "cell_type": "code",
      "metadata": {
        "colab": {
          "base_uri": "https://localhost:8080/"
        },
        "id": "6L9B38w5wfsO",
        "outputId": "4910e7b3-f6c5-47d0-ca29-3b90adf4c6c0"
      },
      "source": [
        "df_test.shape[1]"
      ],
      "execution_count": 10,
      "outputs": [
        {
          "output_type": "execute_result",
          "data": {
            "text/plain": [
              "276"
            ]
          },
          "metadata": {
            "tags": []
          },
          "execution_count": 10
        }
      ]
    },
    {
      "cell_type": "code",
      "metadata": {
        "colab": {
          "base_uri": "https://localhost:8080/"
        },
        "id": "XrxOWi2pvY8Q",
        "outputId": "262d4de5-0bdb-4376-d66b-3773b2bd8096"
      },
      "source": [
        "\n",
        "for index, row in df_test.iterrows():\n",
        "    print(row[\"class\"])\n",
        "    break"
      ],
      "execution_count": 9,
      "outputs": [
        {
          "output_type": "stream",
          "text": [
            "3.0\n"
          ],
          "name": "stdout"
        }
      ]
    },
    {
      "cell_type": "markdown",
      "metadata": {
        "id": "QMacjHCAh6OU"
      },
      "source": [
        "## Dictionary learning"
      ]
    },
    {
      "cell_type": "code",
      "metadata": {
        "id": "1JxcyGfph4Ht"
      },
      "source": [
        "n_times_atom = 100  # L\n",
        "n_times = df.shape[1] - 1  # T (minus 1 for class column)\n",
        "n_atoms = 10  # K\n",
        "n_trials = df.shape[0]  # N\n",
        "n_channels = 1\n",
        "\n"
      ],
      "execution_count": 49,
      "outputs": []
    },
    {
      "cell_type": "code",
      "metadata": {
        "colab": {
          "base_uri": "https://localhost:8080/",
          "height": 270
        },
        "id": "XtBrCsZ-wPvE",
        "outputId": "87005ff4-2cb7-4130-de02-a0db288bb805"
      },
      "source": [
        "df_test.head()"
      ],
      "execution_count": 50,
      "outputs": [
        {
          "output_type": "execute_result",
          "data": {
            "text/html": [
              "<div>\n",
              "<style scoped>\n",
              "    .dataframe tbody tr th:only-of-type {\n",
              "        vertical-align: middle;\n",
              "    }\n",
              "\n",
              "    .dataframe tbody tr th {\n",
              "        vertical-align: top;\n",
              "    }\n",
              "\n",
              "    .dataframe thead th {\n",
              "        text-align: right;\n",
              "    }\n",
              "</style>\n",
              "<table border=\"1\" class=\"dataframe\">\n",
              "  <thead>\n",
              "    <tr style=\"text-align: right;\">\n",
              "      <th></th>\n",
              "      <th>class</th>\n",
              "      <th>Unnamed: 1</th>\n",
              "      <th>Unnamed: 2</th>\n",
              "      <th>Unnamed: 3</th>\n",
              "      <th>Unnamed: 4</th>\n",
              "      <th>Unnamed: 5</th>\n",
              "      <th>Unnamed: 6</th>\n",
              "      <th>Unnamed: 7</th>\n",
              "      <th>Unnamed: 8</th>\n",
              "      <th>Unnamed: 9</th>\n",
              "      <th>Unnamed: 10</th>\n",
              "      <th>Unnamed: 11</th>\n",
              "      <th>Unnamed: 12</th>\n",
              "      <th>Unnamed: 13</th>\n",
              "      <th>Unnamed: 14</th>\n",
              "      <th>Unnamed: 15</th>\n",
              "      <th>Unnamed: 16</th>\n",
              "      <th>Unnamed: 17</th>\n",
              "      <th>Unnamed: 18</th>\n",
              "      <th>Unnamed: 19</th>\n",
              "      <th>Unnamed: 20</th>\n",
              "      <th>Unnamed: 21</th>\n",
              "      <th>Unnamed: 22</th>\n",
              "      <th>Unnamed: 23</th>\n",
              "      <th>Unnamed: 24</th>\n",
              "      <th>Unnamed: 25</th>\n",
              "      <th>Unnamed: 26</th>\n",
              "      <th>Unnamed: 27</th>\n",
              "      <th>Unnamed: 28</th>\n",
              "      <th>Unnamed: 29</th>\n",
              "      <th>Unnamed: 30</th>\n",
              "      <th>Unnamed: 31</th>\n",
              "      <th>Unnamed: 32</th>\n",
              "      <th>Unnamed: 33</th>\n",
              "      <th>Unnamed: 34</th>\n",
              "      <th>Unnamed: 35</th>\n",
              "      <th>Unnamed: 36</th>\n",
              "      <th>Unnamed: 37</th>\n",
              "      <th>Unnamed: 38</th>\n",
              "      <th>Unnamed: 39</th>\n",
              "      <th>...</th>\n",
              "      <th>Unnamed: 236</th>\n",
              "      <th>Unnamed: 237</th>\n",
              "      <th>Unnamed: 238</th>\n",
              "      <th>Unnamed: 239</th>\n",
              "      <th>Unnamed: 240</th>\n",
              "      <th>Unnamed: 241</th>\n",
              "      <th>Unnamed: 242</th>\n",
              "      <th>Unnamed: 243</th>\n",
              "      <th>Unnamed: 244</th>\n",
              "      <th>Unnamed: 245</th>\n",
              "      <th>Unnamed: 246</th>\n",
              "      <th>Unnamed: 247</th>\n",
              "      <th>Unnamed: 248</th>\n",
              "      <th>Unnamed: 249</th>\n",
              "      <th>Unnamed: 250</th>\n",
              "      <th>Unnamed: 251</th>\n",
              "      <th>Unnamed: 252</th>\n",
              "      <th>Unnamed: 253</th>\n",
              "      <th>Unnamed: 254</th>\n",
              "      <th>Unnamed: 255</th>\n",
              "      <th>Unnamed: 256</th>\n",
              "      <th>Unnamed: 257</th>\n",
              "      <th>Unnamed: 258</th>\n",
              "      <th>Unnamed: 259</th>\n",
              "      <th>Unnamed: 260</th>\n",
              "      <th>Unnamed: 261</th>\n",
              "      <th>Unnamed: 262</th>\n",
              "      <th>Unnamed: 263</th>\n",
              "      <th>Unnamed: 264</th>\n",
              "      <th>Unnamed: 265</th>\n",
              "      <th>Unnamed: 266</th>\n",
              "      <th>Unnamed: 267</th>\n",
              "      <th>Unnamed: 268</th>\n",
              "      <th>Unnamed: 269</th>\n",
              "      <th>Unnamed: 270</th>\n",
              "      <th>Unnamed: 271</th>\n",
              "      <th>Unnamed: 272</th>\n",
              "      <th>Unnamed: 273</th>\n",
              "      <th>Unnamed: 274</th>\n",
              "      <th>Unnamed: 275</th>\n",
              "    </tr>\n",
              "  </thead>\n",
              "  <tbody>\n",
              "    <tr>\n",
              "      <th>0</th>\n",
              "      <td>3</td>\n",
              "      <td>-1.296736</td>\n",
              "      <td>-1.333738</td>\n",
              "      <td>-1.349496</td>\n",
              "      <td>-1.318587</td>\n",
              "      <td>-1.307479</td>\n",
              "      <td>-1.255202</td>\n",
              "      <td>-1.273145</td>\n",
              "      <td>-1.254287</td>\n",
              "      <td>-1.298989</td>\n",
              "      <td>-1.290773</td>\n",
              "      <td>-1.302922</td>\n",
              "      <td>-1.300306</td>\n",
              "      <td>-1.307352</td>\n",
              "      <td>-1.297488</td>\n",
              "      <td>-1.283953</td>\n",
              "      <td>-1.341779</td>\n",
              "      <td>-1.321968</td>\n",
              "      <td>-1.292855</td>\n",
              "      <td>-1.295657</td>\n",
              "      <td>-1.246449</td>\n",
              "      <td>-1.354392</td>\n",
              "      <td>-1.323527</td>\n",
              "      <td>-1.308674</td>\n",
              "      <td>-1.288147</td>\n",
              "      <td>-1.277163</td>\n",
              "      <td>-1.322130</td>\n",
              "      <td>-1.269480</td>\n",
              "      <td>-1.298817</td>\n",
              "      <td>-1.273018</td>\n",
              "      <td>-1.330083</td>\n",
              "      <td>-1.240804</td>\n",
              "      <td>-1.302436</td>\n",
              "      <td>-1.364067</td>\n",
              "      <td>-1.292355</td>\n",
              "      <td>-1.290224</td>\n",
              "      <td>-1.290786</td>\n",
              "      <td>-1.320876</td>\n",
              "      <td>-1.312934</td>\n",
              "      <td>-1.321681</td>\n",
              "      <td>...</td>\n",
              "      <td>0.868469</td>\n",
              "      <td>0.791706</td>\n",
              "      <td>0.848278</td>\n",
              "      <td>0.814963</td>\n",
              "      <td>0.844200</td>\n",
              "      <td>0.804676</td>\n",
              "      <td>0.830579</td>\n",
              "      <td>0.811706</td>\n",
              "      <td>0.848178</td>\n",
              "      <td>0.887963</td>\n",
              "      <td>0.885087</td>\n",
              "      <td>0.804370</td>\n",
              "      <td>0.813127</td>\n",
              "      <td>0.783253</td>\n",
              "      <td>0.847750</td>\n",
              "      <td>0.857812</td>\n",
              "      <td>0.833870</td>\n",
              "      <td>0.820761</td>\n",
              "      <td>0.870627</td>\n",
              "      <td>0.787882</td>\n",
              "      <td>0.842882</td>\n",
              "      <td>0.795660</td>\n",
              "      <td>0.823243</td>\n",
              "      <td>0.819505</td>\n",
              "      <td>0.797467</td>\n",
              "      <td>0.819306</td>\n",
              "      <td>0.825646</td>\n",
              "      <td>0.812262</td>\n",
              "      <td>0.846602</td>\n",
              "      <td>0.837655</td>\n",
              "      <td>0.817590</td>\n",
              "      <td>0.851303</td>\n",
              "      <td>0.782615</td>\n",
              "      <td>0.801945</td>\n",
              "      <td>0.821274</td>\n",
              "      <td>0.810207</td>\n",
              "      <td>0.822209</td>\n",
              "      <td>0.819276</td>\n",
              "      <td>0.816343</td>\n",
              "      <td>0.794338</td>\n",
              "    </tr>\n",
              "    <tr>\n",
              "      <th>1</th>\n",
              "      <td>1</td>\n",
              "      <td>0.564214</td>\n",
              "      <td>0.545116</td>\n",
              "      <td>0.542047</td>\n",
              "      <td>0.563157</td>\n",
              "      <td>0.620198</td>\n",
              "      <td>0.581974</td>\n",
              "      <td>0.598603</td>\n",
              "      <td>0.578583</td>\n",
              "      <td>0.612213</td>\n",
              "      <td>0.622150</td>\n",
              "      <td>0.651862</td>\n",
              "      <td>0.611884</td>\n",
              "      <td>0.702007</td>\n",
              "      <td>0.611253</td>\n",
              "      <td>0.592521</td>\n",
              "      <td>0.588605</td>\n",
              "      <td>0.576464</td>\n",
              "      <td>0.558298</td>\n",
              "      <td>0.597151</td>\n",
              "      <td>0.599780</td>\n",
              "      <td>0.602532</td>\n",
              "      <td>0.602304</td>\n",
              "      <td>0.630566</td>\n",
              "      <td>0.599584</td>\n",
              "      <td>0.614938</td>\n",
              "      <td>0.633425</td>\n",
              "      <td>0.547959</td>\n",
              "      <td>0.572915</td>\n",
              "      <td>0.603394</td>\n",
              "      <td>0.613553</td>\n",
              "      <td>0.592205</td>\n",
              "      <td>0.650001</td>\n",
              "      <td>0.591099</td>\n",
              "      <td>0.645992</td>\n",
              "      <td>0.631558</td>\n",
              "      <td>0.546751</td>\n",
              "      <td>0.627571</td>\n",
              "      <td>0.613915</td>\n",
              "      <td>0.542942</td>\n",
              "      <td>...</td>\n",
              "      <td>0.554533</td>\n",
              "      <td>0.500871</td>\n",
              "      <td>0.527384</td>\n",
              "      <td>0.569502</td>\n",
              "      <td>0.532444</td>\n",
              "      <td>0.512395</td>\n",
              "      <td>0.559144</td>\n",
              "      <td>0.538515</td>\n",
              "      <td>0.496172</td>\n",
              "      <td>0.563448</td>\n",
              "      <td>0.558196</td>\n",
              "      <td>0.547331</td>\n",
              "      <td>0.541925</td>\n",
              "      <td>0.541562</td>\n",
              "      <td>0.599890</td>\n",
              "      <td>0.609105</td>\n",
              "      <td>0.573793</td>\n",
              "      <td>0.537794</td>\n",
              "      <td>0.517505</td>\n",
              "      <td>0.558873</td>\n",
              "      <td>0.573294</td>\n",
              "      <td>0.585470</td>\n",
              "      <td>0.587851</td>\n",
              "      <td>0.567978</td>\n",
              "      <td>0.586527</td>\n",
              "      <td>0.520116</td>\n",
              "      <td>0.614556</td>\n",
              "      <td>0.589304</td>\n",
              "      <td>0.539558</td>\n",
              "      <td>0.576140</td>\n",
              "      <td>0.568564</td>\n",
              "      <td>0.577551</td>\n",
              "      <td>0.620840</td>\n",
              "      <td>0.520834</td>\n",
              "      <td>0.568744</td>\n",
              "      <td>0.626330</td>\n",
              "      <td>0.530965</td>\n",
              "      <td>0.571332</td>\n",
              "      <td>0.586189</td>\n",
              "      <td>0.590860</td>\n",
              "    </tr>\n",
              "    <tr>\n",
              "      <th>2</th>\n",
              "      <td>3</td>\n",
              "      <td>-2.100779</td>\n",
              "      <td>-2.088201</td>\n",
              "      <td>-2.025100</td>\n",
              "      <td>-2.100239</td>\n",
              "      <td>-2.086126</td>\n",
              "      <td>-2.030557</td>\n",
              "      <td>-2.057606</td>\n",
              "      <td>-2.094286</td>\n",
              "      <td>-2.019413</td>\n",
              "      <td>-2.100592</td>\n",
              "      <td>-2.077596</td>\n",
              "      <td>-2.086217</td>\n",
              "      <td>-2.067445</td>\n",
              "      <td>-2.026826</td>\n",
              "      <td>-1.988130</td>\n",
              "      <td>-2.034455</td>\n",
              "      <td>-2.073608</td>\n",
              "      <td>-2.033534</td>\n",
              "      <td>-2.043946</td>\n",
              "      <td>-2.043691</td>\n",
              "      <td>-2.047009</td>\n",
              "      <td>-2.054476</td>\n",
              "      <td>-2.029235</td>\n",
              "      <td>-2.043709</td>\n",
              "      <td>-2.071321</td>\n",
              "      <td>-2.051201</td>\n",
              "      <td>-2.066278</td>\n",
              "      <td>-2.078206</td>\n",
              "      <td>-2.038419</td>\n",
              "      <td>-2.058166</td>\n",
              "      <td>-2.048246</td>\n",
              "      <td>-2.072147</td>\n",
              "      <td>-2.067382</td>\n",
              "      <td>-1.995005</td>\n",
              "      <td>-2.038438</td>\n",
              "      <td>-2.002107</td>\n",
              "      <td>-2.010124</td>\n",
              "      <td>-2.044430</td>\n",
              "      <td>-1.979272</td>\n",
              "      <td>...</td>\n",
              "      <td>0.543562</td>\n",
              "      <td>0.501355</td>\n",
              "      <td>0.610202</td>\n",
              "      <td>0.538363</td>\n",
              "      <td>0.565945</td>\n",
              "      <td>0.510124</td>\n",
              "      <td>0.519876</td>\n",
              "      <td>0.578270</td>\n",
              "      <td>0.552150</td>\n",
              "      <td>0.526030</td>\n",
              "      <td>0.529435</td>\n",
              "      <td>0.510975</td>\n",
              "      <td>0.533750</td>\n",
              "      <td>0.598374</td>\n",
              "      <td>0.535464</td>\n",
              "      <td>0.572777</td>\n",
              "      <td>0.581516</td>\n",
              "      <td>0.506503</td>\n",
              "      <td>0.531993</td>\n",
              "      <td>0.500033</td>\n",
              "      <td>0.517366</td>\n",
              "      <td>0.507823</td>\n",
              "      <td>0.544937</td>\n",
              "      <td>0.598653</td>\n",
              "      <td>0.544034</td>\n",
              "      <td>0.595354</td>\n",
              "      <td>0.588260</td>\n",
              "      <td>0.537135</td>\n",
              "      <td>0.551000</td>\n",
              "      <td>0.534877</td>\n",
              "      <td>0.589671</td>\n",
              "      <td>0.496224</td>\n",
              "      <td>0.537520</td>\n",
              "      <td>0.558377</td>\n",
              "      <td>0.547514</td>\n",
              "      <td>0.571221</td>\n",
              "      <td>0.542142</td>\n",
              "      <td>0.542945</td>\n",
              "      <td>0.543747</td>\n",
              "      <td>0.543874</td>\n",
              "    </tr>\n",
              "    <tr>\n",
              "      <th>3</th>\n",
              "      <td>2</td>\n",
              "      <td>0.738442</td>\n",
              "      <td>0.728175</td>\n",
              "      <td>0.757858</td>\n",
              "      <td>0.822484</td>\n",
              "      <td>0.734091</td>\n",
              "      <td>0.760751</td>\n",
              "      <td>0.811335</td>\n",
              "      <td>0.802686</td>\n",
              "      <td>0.728860</td>\n",
              "      <td>0.703921</td>\n",
              "      <td>0.678807</td>\n",
              "      <td>0.761075</td>\n",
              "      <td>0.751167</td>\n",
              "      <td>0.817078</td>\n",
              "      <td>0.747813</td>\n",
              "      <td>0.781549</td>\n",
              "      <td>0.775656</td>\n",
              "      <td>0.757780</td>\n",
              "      <td>0.693106</td>\n",
              "      <td>0.748162</td>\n",
              "      <td>0.778360</td>\n",
              "      <td>0.699534</td>\n",
              "      <td>0.786682</td>\n",
              "      <td>0.744153</td>\n",
              "      <td>0.746283</td>\n",
              "      <td>0.832787</td>\n",
              "      <td>0.753267</td>\n",
              "      <td>0.826130</td>\n",
              "      <td>0.740835</td>\n",
              "      <td>0.772521</td>\n",
              "      <td>0.770911</td>\n",
              "      <td>0.757556</td>\n",
              "      <td>0.808293</td>\n",
              "      <td>0.789985</td>\n",
              "      <td>0.698864</td>\n",
              "      <td>0.714306</td>\n",
              "      <td>0.729749</td>\n",
              "      <td>0.802062</td>\n",
              "      <td>0.751128</td>\n",
              "      <td>...</td>\n",
              "      <td>0.732571</td>\n",
              "      <td>0.693445</td>\n",
              "      <td>0.715897</td>\n",
              "      <td>0.775099</td>\n",
              "      <td>0.712643</td>\n",
              "      <td>0.727309</td>\n",
              "      <td>0.738201</td>\n",
              "      <td>0.753473</td>\n",
              "      <td>0.751290</td>\n",
              "      <td>0.665401</td>\n",
              "      <td>0.717172</td>\n",
              "      <td>0.734121</td>\n",
              "      <td>0.681781</td>\n",
              "      <td>0.761852</td>\n",
              "      <td>0.770698</td>\n",
              "      <td>0.696792</td>\n",
              "      <td>0.706314</td>\n",
              "      <td>0.705529</td>\n",
              "      <td>0.785900</td>\n",
              "      <td>0.754598</td>\n",
              "      <td>0.737232</td>\n",
              "      <td>0.764635</td>\n",
              "      <td>0.742151</td>\n",
              "      <td>0.743498</td>\n",
              "      <td>0.693093</td>\n",
              "      <td>0.723610</td>\n",
              "      <td>0.740081</td>\n",
              "      <td>0.703261</td>\n",
              "      <td>0.733857</td>\n",
              "      <td>0.734462</td>\n",
              "      <td>0.760828</td>\n",
              "      <td>0.709781</td>\n",
              "      <td>0.750877</td>\n",
              "      <td>0.738374</td>\n",
              "      <td>0.706462</td>\n",
              "      <td>0.769492</td>\n",
              "      <td>0.705494</td>\n",
              "      <td>0.738047</td>\n",
              "      <td>0.764293</td>\n",
              "      <td>0.757955</td>\n",
              "    </tr>\n",
              "    <tr>\n",
              "      <th>4</th>\n",
              "      <td>1</td>\n",
              "      <td>0.637616</td>\n",
              "      <td>0.585078</td>\n",
              "      <td>0.623133</td>\n",
              "      <td>0.629319</td>\n",
              "      <td>0.641032</td>\n",
              "      <td>0.644209</td>\n",
              "      <td>0.620274</td>\n",
              "      <td>0.629437</td>\n",
              "      <td>0.693167</td>\n",
              "      <td>0.629576</td>\n",
              "      <td>0.625348</td>\n",
              "      <td>0.659909</td>\n",
              "      <td>0.633923</td>\n",
              "      <td>0.655369</td>\n",
              "      <td>0.603374</td>\n",
              "      <td>0.649741</td>\n",
              "      <td>0.668071</td>\n",
              "      <td>0.686402</td>\n",
              "      <td>0.667116</td>\n",
              "      <td>0.668583</td>\n",
              "      <td>0.643545</td>\n",
              "      <td>0.656997</td>\n",
              "      <td>0.620273</td>\n",
              "      <td>0.648819</td>\n",
              "      <td>0.693993</td>\n",
              "      <td>0.632776</td>\n",
              "      <td>0.651215</td>\n",
              "      <td>0.669653</td>\n",
              "      <td>0.639081</td>\n",
              "      <td>0.609878</td>\n",
              "      <td>0.599140</td>\n",
              "      <td>0.618505</td>\n",
              "      <td>0.646240</td>\n",
              "      <td>0.599491</td>\n",
              "      <td>0.594672</td>\n",
              "      <td>0.612374</td>\n",
              "      <td>0.637781</td>\n",
              "      <td>0.591617</td>\n",
              "      <td>0.696962</td>\n",
              "      <td>...</td>\n",
              "      <td>0.609449</td>\n",
              "      <td>0.567151</td>\n",
              "      <td>0.542016</td>\n",
              "      <td>0.574557</td>\n",
              "      <td>0.513767</td>\n",
              "      <td>0.573303</td>\n",
              "      <td>0.568842</td>\n",
              "      <td>0.571414</td>\n",
              "      <td>0.573986</td>\n",
              "      <td>0.587916</td>\n",
              "      <td>0.584669</td>\n",
              "      <td>0.601582</td>\n",
              "      <td>0.552176</td>\n",
              "      <td>0.616807</td>\n",
              "      <td>0.691177</td>\n",
              "      <td>0.589914</td>\n",
              "      <td>0.616895</td>\n",
              "      <td>0.589657</td>\n",
              "      <td>0.586559</td>\n",
              "      <td>0.605256</td>\n",
              "      <td>0.632361</td>\n",
              "      <td>0.607122</td>\n",
              "      <td>0.613102</td>\n",
              "      <td>0.623748</td>\n",
              "      <td>0.617278</td>\n",
              "      <td>0.650209</td>\n",
              "      <td>0.626213</td>\n",
              "      <td>0.589304</td>\n",
              "      <td>0.637231</td>\n",
              "      <td>0.650188</td>\n",
              "      <td>0.619496</td>\n",
              "      <td>0.588804</td>\n",
              "      <td>0.622431</td>\n",
              "      <td>0.619396</td>\n",
              "      <td>0.637752</td>\n",
              "      <td>0.640945</td>\n",
              "      <td>0.647132</td>\n",
              "      <td>0.635257</td>\n",
              "      <td>0.621143</td>\n",
              "      <td>0.648951</td>\n",
              "    </tr>\n",
              "  </tbody>\n",
              "</table>\n",
              "<p>5 rows × 276 columns</p>\n",
              "</div>"
            ],
            "text/plain": [
              "   class  Unnamed: 1  Unnamed: 2  ...  Unnamed: 273  Unnamed: 274  Unnamed: 275\n",
              "0      3   -1.296736   -1.333738  ...      0.819276      0.816343      0.794338\n",
              "1      1    0.564214    0.545116  ...      0.571332      0.586189      0.590860\n",
              "2      3   -2.100779   -2.088201  ...      0.542945      0.543747      0.543874\n",
              "3      2    0.738442    0.728175  ...      0.738047      0.764293      0.757955\n",
              "4      1    0.637616    0.585078  ...      0.635257      0.621143      0.648951\n",
              "\n",
              "[5 rows x 276 columns]"
            ]
          },
          "metadata": {
            "tags": []
          },
          "execution_count": 50
        }
      ]
    },
    {
      "cell_type": "code",
      "metadata": {
        "colab": {
          "base_uri": "https://localhost:8080/"
        },
        "id": "a4IabaNOjQQM",
        "outputId": "3799f4f6-913a-4b81-e9e5-8b74bd538e8e"
      },
      "source": [
        "X_train = df.loc[:,\"Unnamed: 1\":\"Unnamed: 275\"].values[:,None,:]\n",
        "Y_train = df.loc[:,\"class\"]\n",
        "\n",
        "X_test = df_test.loc[:,\"Unnamed: 1\":\"Unnamed: 275\"].values[:,None,:]\n",
        "Y_test = df_test.loc[:,\"class\"]\n",
        "\n",
        "print(X_train.shape)\n",
        "print(X_test.shape)"
      ],
      "execution_count": 51,
      "outputs": [
        {
          "output_type": "stream",
          "text": [
            "(100, 1, 275)\n",
            "(100, 1, 275)\n"
          ],
          "name": "stdout"
        }
      ]
    },
    {
      "cell_type": "code",
      "metadata": {
        "id": "G7KDEm7Fh-L8"
      },
      "source": [
        "n_iter_global = 10\n",
        "n_iter_optim = 50\n",
        "n_iter_mcmc = 100\n",
        "n_burnin_mcmc = 50"
      ],
      "execution_count": 52,
      "outputs": []
    },
    {
      "cell_type": "code",
      "metadata": {
        "colab": {
          "base_uri": "https://localhost:8080/",
          "height": 268
        },
        "id": "1DAc64Ivh_37",
        "outputId": "81aabed6-b273-45e1-bdbf-e9a1c434fbdc"
      },
      "source": [
        "from alphacsc import BatchCDL\n",
        "import matplotlib.pyplot as plt\n",
        "\n",
        "# Learn a dictionary with batch algorithm and rank1 constraints.\n",
        "cdl = BatchCDL(n_atoms, n_times_atom, rank1=False, verbose = 0)\n",
        "cdl.fit(X_train)\n",
        "\n",
        "# Display the learned atoms\n",
        "fig, axes = plt.subplots(n_atoms, 2, num=\"Dictionary\")\n",
        "for k in range(n_atoms):\n",
        "    axes[k, 0].plot(cdl.u_hat_[k])\n",
        "    # print(cdl.u_hat_[k].shape, cdl.u_hat_[k])\n",
        "    axes[k, 1].plot(cdl.v_hat_[k])\n",
        "\n",
        "axes[0, 0].set_title(\"Spatial map\")\n",
        "axes[0, 1].set_title(\"Temporal map\")\n",
        "for ax in axes.ravel():\n",
        "    ax.set_xticklabels([])\n",
        "    ax.set_yticklabels([])\n",
        "\n",
        "plt.show()"
      ],
      "execution_count": 53,
      "outputs": [
        {
          "output_type": "display_data",
          "data": {
            "image/png": "[encoded data removed]",
            "text/plain": [
              "<Figure size 432x288 with 20 Axes>"
            ]
          },
          "metadata": {
            "tags": [],
            "needs_background": "light"
          }
        }
      ]
    },
    {
      "cell_type": "markdown",
      "metadata": {
        "id": "fZWmkL2SmezP"
      },
      "source": [
        "# Plot Utils"
      ]
    },
    {
      "cell_type": "code",
      "metadata": {
        "id": "TbAc2yigmeEi"
      },
      "source": [
        "import plotly.graph_objects as graph\n",
        "def plot(all_history:list, title:str, log = False):\n",
        "    \"\"\"\n",
        "    input:\n",
        "        all_history: list of dicts to plot\n",
        "    ret:\n",
        "        None: show plotly fig\n",
        "    \"\"\"\n",
        "    fig = graph.Figure(layout = graph.Layout(title=graph.layout.Title(text=title))) \n",
        "    for i in range(len(all_history)):\n",
        "        fig.add_trace(graph.Scatter(x = all_history[i][\"x\"], \n",
        "                                    y = all_history[i][\"y\"],\n",
        "                                    name = all_history[i][\"legend\"])) \n",
        "    if log: fig.update_xaxes(type=\"log\")\n",
        "    fig.show()"
      ],
      "execution_count": 54,
      "outputs": []
    },
    {
      "cell_type": "markdown",
      "metadata": {
        "id": "Gt20Txw1_0UM"
      },
      "source": [
        "# vizualize dictionary"
      ]
    },
    {
      "cell_type": "code",
      "metadata": {
        "colab": {
          "base_uri": "https://localhost:8080/",
          "height": 265
        },
        "id": "8gyMAfVFiIug",
        "outputId": "07391ed2-1a57-4759-b0c6-c14636cd4d7f"
      },
      "source": [
        "import matplotlib.pyplot as plt\n",
        "\n",
        "plt.figure()\n",
        "plt.plot(cdl.v_hat_.T, 'b', label=r'$\\alpha$CSC')\n",
        "plt.show()\n",
        "\n"
      ],
      "execution_count": 55,
      "outputs": [
        {
          "output_type": "display_data",
          "data": {
            "image/png": "[encoded data removed]",
            "text/plain": [
              "<Figure size 432x288 with 1 Axes>"
            ]
          },
          "metadata": {
            "tags": [],
            "needs_background": "light"
          }
        }
      ]
    },
    {
      "cell_type": "markdown",
      "metadata": {
        "id": "EZlXl7AZm0kD"
      },
      "source": [
        "# Obtain dense sparse codes as data "
      ]
    },
    {
      "cell_type": "code",
      "metadata": {
        "id": "MO1qCoWflvls",
        "colab": {
          "base_uri": "https://localhost:8080/"
        },
        "outputId": "ce82b1c2-ebc8-45e7-9d71-16afa25f3e9a"
      },
      "source": [
        "\n",
        "import numpy as np\n",
        "\n",
        "test_sparse_code = cdl.transform(X_test)\n",
        "train_sparse_code = cdl.transform(X_train)\n",
        "\n",
        "\n",
        "print(test_sparse_code.shape)\n",
        "X_test_flat = test_sparse_code.reshape((100, 1760))\n",
        "print(X_train_flat.shape)\n",
        "\n",
        "\n",
        "X_train_flat = train_sparse_code.reshape((100, 1760))\n",
        "\n"
      ],
      "execution_count": 105,
      "outputs": [
        {
          "output_type": "stream",
          "text": [
            "(100, 10, 176)\n",
            "(100, 1760)\n"
          ],
          "name": "stdout"
        }
      ]
    },
    {
      "cell_type": "markdown",
      "metadata": {
        "id": "M0rrMz4eLUy0"
      },
      "source": [
        "# testing sklearn library"
      ]
    },
    {
      "cell_type": "code",
      "metadata": {
        "id": "GKYGu9TqLX16"
      },
      "source": [
        "from sklearn import datasets\n",
        "from sklearn.decomposition import PCA\n",
        "from sklearn.linear_model import LogisticRegression\n",
        "from sklearn.pipeline import Pipeline\n",
        "from sklearn.model_selection import GridSearchCV\n",
        "\n",
        "from sklearn import datasets\n",
        "from sklearn.decomposition import PCA\n",
        "from sklearn.linear_model import LogisticRegression\n",
        "from sklearn.pipeline import Pipeline\n",
        "from sklearn.model_selection import GridSearchCV\n",
        "\n",
        "\n",
        "pca = PCA()\n",
        "# set the tolerance to a large value to make the example faster\n",
        "logistic = LogisticRegression(max_iter=10000, tol=0.1)\n",
        "pipe = Pipeline(steps=[('pca', pca), ('logistic', logistic)])\n",
        "search = GridSearchCV(pipe, param_grid, n_jobs=-1)\n",
        "\n",
        "# Parameters of pipelines can be set using ‘__’ separated parameter names:\n",
        "param_grid = {\n",
        "    'pca__n_components': [5, 15, 30, 45, 64],\n",
        "    'logistic__C': np.logspace(-4, 4, 4)}\n",
        "search = GridSearchCV(pipe, param_grid, n_jobs=-1)\n"
      ],
      "execution_count": 106,
      "outputs": []
    },
    {
      "cell_type": "markdown",
      "metadata": {
        "id": "4X0DKANK_ODp"
      },
      "source": [
        "# Recunstruct"
      ]
    },
    {
      "cell_type": "code",
      "metadata": {
        "colab": {
          "base_uri": "https://localhost:8080/"
        },
        "id": "LlzzIKCn9EQX",
        "outputId": "bbd7ffe5-2bad-4b24-cd7a-73d8fcd2bbf2"
      },
      "source": [
        "from sklearn.metrics import classification_report\n",
        "\n",
        "\n",
        "print(X_train_flat.shape)\n",
        "search.fit(X_train_flat, Y_train)\n",
        "print(\"Best parameter (CV score=%0.3f):\" % search.best_score_)\n",
        "print(search.best_params_)\n",
        "\n",
        "\n",
        "print(Y_test.shape)\n",
        "print(Y_pred.shape)\n",
        "\n",
        "Y_pred = search.predict(X_train_flat)\n",
        "print(Y_test.values)\n",
        "print(Y_pred)\n",
        "\n",
        "print(classification_report(Y_test.values, Y_pred))\n"
      ],
      "execution_count": 107,
      "outputs": [
        {
          "output_type": "stream",
          "text": [
            "(100, 1760)\n",
            "Best parameter (CV score=0.760):\n",
            "{'logistic__C': 10000.0, 'pca__n_components': 64}\n",
            "(100,)\n",
            "(100,)\n",
            "[3 1 3 2 1 3 2 2 2 4 3 2 3 3 3 4 2 3 1 1 3 4 4 1 2 3 3 4 3 4 3 2 2 2 1 4 3\n",
            " 1 2 4 3 4 2 2 4 2 1 4 4 3 2 4 2 1 3 1 3 1 3 3 3 1 3 2 4 1 2 1 2 1 1 2 3 4\n",
            " 1 2 2 4 3 2 2 1 4 1 2 2 4 1 1 1 3 1 1 2 3 3 2 2 3 4]\n",
            "[1 2 4 3 1 4 4 1 1 4 4 4 4 3 4 1 3 2 4 4 4 4 3 2 1 2 4 4 2 4 1 1 4 4 2 1 1\n",
            " 2 1 1 3 3 3 3 3 1 4 4 4 2 4 3 2 1 4 2 2 2 2 1 3 2 4 3 3 2 2 1 4 4 2 3 2 1\n",
            " 3 4 1 1 3 3 1 3 1 3 3 3 4 1 2 1 4 4 4 1 3 1 2 4 1 2]\n",
            "              precision    recall  f1-score   support\n",
            "\n",
            "           1       0.19      0.21      0.20        24\n",
            "           2       0.14      0.10      0.12        29\n",
            "           3       0.23      0.18      0.20        28\n",
            "           4       0.23      0.37      0.28        19\n",
            "\n",
            "    accuracy                           0.20       100\n",
            "   macro avg       0.20      0.21      0.20       100\n",
            "weighted avg       0.19      0.20      0.19       100\n",
            "\n"
          ],
          "name": "stdout"
        }
      ]
    },
    {
      "cell_type": "code",
      "metadata": {
        "colab": {
          "base_uri": "https://localhost:8080/",
          "height": 441
        },
        "id": "nog16Vi6-X4N",
        "outputId": "d387ae61-82b1-4985-987d-b1a456c304ce"
      },
      "source": [
        "\n",
        "# Plot the PCA spectrum\n",
        "pca.fit(X_train_flat)\n",
        "\n",
        "fig, (ax0, ax1) = plt.subplots(nrows=2, sharex=True, figsize=(6, 6))\n",
        "ax0.plot(np.arange(1, pca.n_components_ + 1),\n",
        "         pca.explained_variance_ratio_, '+', linewidth=2)\n",
        "ax0.set_ylabel('PCA explained variance ratio')\n",
        "\n",
        "ax0.axvline(search.best_estimator_.named_steps['pca'].n_components,\n",
        "            linestyle=':', label='n_components chosen')\n",
        "ax0.legend(prop=dict(size=12))\n",
        "\n",
        "# For each number of components, find the best classifier results\n",
        "results = pd.DataFrame(search.cv_results_)\n",
        "components_col = 'param_pca__n_components'\n",
        "best_clfs = results.groupby(components_col).apply(\n",
        "    lambda g: g.nlargest(1, 'mean_test_score'))\n",
        "\n",
        "best_clfs.plot(x=components_col, y='mean_test_score', yerr='std_test_score',\n",
        "               legend=False, ax=ax1)\n",
        "ax1.set_ylabel('Classification accuracy (val)')\n",
        "ax1.set_xlabel('n_components')\n",
        "\n",
        "plt.xlim(-1, 70)\n",
        "\n",
        "plt.tight_layout()\n",
        "plt.show()"
      ],
      "execution_count": 100,
      "outputs": [
        {
          "output_type": "display_data",
          "data": {
            "image/png": "[encoded data removed]",
            "text/plain": [
              "<Figure size 432x432 with 2 Axes>"
            ]
          },
          "metadata": {
            "tags": [],
            "needs_background": "light"
          }
        }
      ]
    },
    {
      "cell_type": "code",
      "metadata": {
        "colab": {
          "base_uri": "https://localhost:8080/",
          "height": 627
        },
        "id": "erAySwvC-lv2",
        "outputId": "936866dc-dd6c-483e-a7d5-4994474da3c1"
      },
      "source": [
        "\n",
        "sparse_code = cdl.transform(X_test[0,:,:][None])\n",
        "print(\"\\nsparse_code.shape\", sparse_code.shape)\n",
        "# np.savetxt(\"foo.csv\", sparse_code[0,:,:], delimiter=\",\")\n",
        "\n",
        "X_test_reconstruct = cdl.transform_inverse(sparse_code)\n",
        "\n",
        "print(\"\\nX_test.shape: {} \\nX_test_reconstruct.shape : {}\".format(X_test.shape, X_test_reconstruct[0,0,:].shape))\n",
        "\n",
        "#perfect plot\n",
        "original_plot = {\"legend\": \"original\", \n",
        "                 \"x\": list(range(0,276)), \n",
        "                 \"y\": X_test[0,0,:]}\n",
        "                  \n",
        "reconstruct_plot = {\"legend\": \"reconstruct\", \n",
        "                    \"x\": list(range(0,276)),\n",
        "                    \"y\": X_test_reconstruct[0,0,:]}      \n",
        "\n",
        "plot([original_plot, reconstruct_plot], \"Signal Comparison\")      \n"
      ],
      "execution_count": 101,
      "outputs": [
        {
          "output_type": "stream",
          "text": [
            "\n",
            "sparse_code.shape (1, 10, 176)\n",
            "\n",
            "X_test.shape: (100, 1, 275) \n",
            "X_test_reconstruct.shape : (275,)\n"
          ],
          "name": "stdout"
        },
        {
          "output_type": "display_data",
          "data": {
            "text/html": [
              "<html>\n",
              "<head><meta charset=\"utf-8\" /></head>\n",
              "<body>\n",
              "    <div>\n",
              "            <script src=\"https://cdnjs.cloudflare.com/ajax/libs/mathjax/2.7.5/MathJax.js?config=TeX-AMS-MML_SVG\"></script><script type=\"text/javascript\">if (window.MathJax) {MathJax.Hub.Config({SVG: {font: \"STIX-Web\"}});}</script>\n",
              "                <script type=\"text/javascript\">window.PlotlyConfig = {MathJaxConfig: 'local'};</script>\n",
              "        <script src=\"https://cdn.plot.ly/plotly-latest.min.js\"></script>    \n",
              "            <div id=\"4e639a56-30b8-4cfb-97cf-db4fad7c73e2\" class=\"plotly-graph-div\" style=\"height:525px; width:100%;\"></div>\n",
              "            <script type=\"text/javascript\">\n",
              "                \n",
              "                    window.PLOTLYENV=window.PLOTLYENV || {};\n",
              "                    \n",
              "                if (document.getElementById(\"4e639a56-30b8-4cfb-97cf-db4fad7c73e2\")) {\n",
              "                    Plotly.newPlot(\n",
              "                        '4e639a56-30b8-4cfb-97cf-db4fad7c73e2',\n",
              "                        [{\"name\": \"original\", \"type\": \"scatter\", \"x\": [0, 1, 2, 3, 4, 5, 6, 7, 8, 9, 10, 11, 12, 13, 14, 15, 16, 17, 18, 19, 20, 21, 22, 23, 24, 25, 26, 27, 28, 29, 30, 31, 32, 33, 34, 35, 36, 37, 38, 39, 40, 41, 42, 43, 44, 45, 46, 47, 48, 49, 50, 51, 52, 53, 54, 55, 56, 57, 58, 59, 60, 61, 62, 63, 64, 65, 66, 67, 68, 69, 70, 71, 72, 73, 74, 75, 76, 77, 78, 79, 80, 81, 82, 83, 84, 85, 86, 87, 88, 89, 90, 91, 92, 93, 94, 95, 96, 97, 98, 99, 100, 101, 102, 103, 104, 105, 106, 107, 108, 109, 110, 111, 112, 113, 114, 115, 116, 117, 118, 119, 120, 121, 122, 123, 124, 125, 126, 127, 128, 129, 130, 131, 132, 133, 134, 135, 136, 137, 138, 139, 140, 141, 142, 143, 144, 145, 146, 147, 148, 149, 150, 151, 152, 153, 154, 155, 156, 157, 158, 159, 160, 161, 162, 163, 164, 165, 166, 167, 168, 169, 170, 171, 172, 173, 174, 175, 176, 177, 178, 179, 180, 181, 182, 183, 184, 185, 186, 187, 188, 189, 190, 191, 192, 193, 194, 195, 196, 197, 198, 199, 200, 201, 202, 203, 204, 205, 206, 207, 208, 209, 210, 211, 212, 213, 214, 215, 216, 217, 218, 219, 220, 221, 222, 223, 224, 225, 226, 227, 228, 229, 230, 231, 232, 233, 234, 235, 236, 237, 238, 239, 240, 241, 242, 243, 244, 245, 246, 247, 248, 249, 250, 251, 252, 253, 254, 255, 256, 257, 258, 259, 260, 261, 262, 263, 264, 265, 266, 267, 268, 269, 270, 271, 272, 273, 274, 275], \"y\": [-1.2967358, -1.3337382, -1.3494959, -1.3185867, -1.307479, -1.2552024, -1.2731446, -1.2542866, -1.2989894, -1.2907729, -1.3029222, -1.300306, -1.3073516, -1.2974883, -1.283953, -1.3417791, -1.3219679, -1.2928554, -1.2956571, -1.2464495, -1.3543916, -1.3235271, -1.3086736, -1.2881467, -1.2771626, -1.3221296, -1.2694796, -1.2988174, -1.273018, -1.330083, -1.2408037, -1.3024356, -1.3640674, -1.292355, -1.2902237, -1.2907857, -1.320876, -1.3129339, -1.3216811, -1.2871637, -1.3198372, -1.3114867, -1.3122231, -1.2905983, -1.3171477, -1.2874889, -1.3186438, -1.299882, -1.3044735, -1.2948033, -1.3040439, -1.3069447, -1.2840316, -1.3085823, -1.293375, -1.3057471, -1.3374953, -1.2947067, -1.3279093, -1.3360214, -1.294133, -1.2947651, -1.3169188, -1.2837504, -1.3147326, -1.3146635, -1.3154057, -1.3337354, -1.3173321, -1.2848678, -1.2977069, -1.310546, -1.3066109, -1.3358504, -1.2860842, -1.2803267, -1.3206546, -1.2745161, -1.3093949, -1.2344305, -1.2677604, -1.3390095, -1.2950823, -1.2769976, -1.2744496, -1.2536196, -1.2327896, -1.2380282, -1.1788398, -1.2342229, -1.2480745, -1.2171076, -1.2017633, -1.1288856, -1.1049311, -1.077681, -1.0265534, -0.99518718, -0.94285223, -0.85523387, -0.78319772, -0.66071963, -0.64779136, -0.51247191, -0.38670898, -0.36520774, -0.26175498, -0.11380161, -0.015933703, 0.069011355, 0.17761958, 0.22553987, 0.28052336, 0.36179839, 0.44309893, 0.52439948, 0.53949637, 0.5843216, 0.64000731, 0.62861783, 0.68905748, 0.6941877, 0.73393101, 0.71619731, 0.74282739, 0.79894247, 0.75292171, 0.81999025, 0.78534059, 0.78563582, 0.80066477, 0.83620786, 0.78445976, 0.82046217, 0.82553281, 0.83742831, 0.81107852, 0.79239194, 0.81412894, 0.836032, 0.85164396, 0.85903636, 0.81462303, 0.80759103, 0.88097467, 0.81748489, 0.82157144, 0.81378496, 0.810566, 0.83967421, 0.8077574, 0.83419504, 0.81760659, 0.84511237, 0.86383628, 0.79125825, 0.83526124, 0.83685241, 0.83844354, 0.84903332, 0.8500012, 0.81709962, 0.83005045, 0.8757394, 0.8701409, 0.85488167, 0.82240869, 0.83421275, 0.91226591, 0.8688406, 0.8254153, 0.85917247, 0.81272364, 0.82140281, 0.84762152, 0.82643665, 0.8173741, 0.85742365, 0.80322383, 0.84133327, 0.82177364, 0.82077767, 0.82379992, 0.80075751, 0.87713903, 0.84490318, 0.84950929, 0.83500891, 0.82050854, 0.85489158, 0.82808359, 0.8038175, 0.80501363, 0.83786104, 0.84865748, 0.8722621, 0.86352131, 0.84517525, 0.84790641, 0.86490234, 0.83284883, 0.8492222, 0.82432911, 0.80344324, 0.82082599, 0.88741312, 0.97144255, 1.0244146, 1.1646646, 1.2817617, 1.2782001, 1.2669748, 1.1743494, 0.99301931, 0.87904844, 0.8704001, 0.72604243, 0.65090107, 0.5808432, 0.51078533, 0.46475209, 0.41871887, 0.4105488, 0.37687038, 0.34319199, 0.520405, 0.62664479, 0.7148719, 0.73577691, 0.80718612, 0.83902608, 0.84613707, 0.86272438, 0.7966524, 0.78722214, 0.86846861, 0.79170589, 0.84827843, 0.81496301, 0.84420048, 0.80467576, 0.83057854, 0.81170588, 0.84817769, 0.88796261, 0.88508665, 0.80436971, 0.81312667, 0.78325255, 0.84774964, 0.85781244, 0.83387043, 0.82076106, 0.87062703, 0.78788187, 0.84288179, 0.7956596, 0.82324334, 0.81950535, 0.79746731, 0.81930616, 0.82564625, 0.81226188, 0.84660216, 0.83765531, 0.8175896, 0.85130333, 0.78261506, 0.80194467, 0.82127428, 0.81020651, 0.82220895, 0.81927587, 0.81634281, 0.79433788]}, {\"name\": \"reconstruct\", \"type\": \"scatter\", \"x\": [0, 1, 2, 3, 4, 5, 6, 7, 8, 9, 10, 11, 12, 13, 14, 15, 16, 17, 18, 19, 20, 21, 22, 23, 24, 25, 26, 27, 28, 29, 30, 31, 32, 33, 34, 35, 36, 37, 38, 39, 40, 41, 42, 43, 44, 45, 46, 47, 48, 49, 50, 51, 52, 53, 54, 55, 56, 57, 58, 59, 60, 61, 62, 63, 64, 65, 66, 67, 68, 69, 70, 71, 72, 73, 74, 75, 76, 77, 78, 79, 80, 81, 82, 83, 84, 85, 86, 87, 88, 89, 90, 91, 92, 93, 94, 95, 96, 97, 98, 99, 100, 101, 102, 103, 104, 105, 106, 107, 108, 109, 110, 111, 112, 113, 114, 115, 116, 117, 118, 119, 120, 121, 122, 123, 124, 125, 126, 127, 128, 129, 130, 131, 132, 133, 134, 135, 136, 137, 138, 139, 140, 141, 142, 143, 144, 145, 146, 147, 148, 149, 150, 151, 152, 153, 154, 155, 156, 157, 158, 159, 160, 161, 162, 163, 164, 165, 166, 167, 168, 169, 170, 171, 172, 173, 174, 175, 176, 177, 178, 179, 180, 181, 182, 183, 184, 185, 186, 187, 188, 189, 190, 191, 192, 193, 194, 195, 196, 197, 198, 199, 200, 201, 202, 203, 204, 205, 206, 207, 208, 209, 210, 211, 212, 213, 214, 215, 216, 217, 218, 219, 220, 221, 222, 223, 224, 225, 226, 227, 228, 229, 230, 231, 232, 233, 234, 235, 236, 237, 238, 239, 240, 241, 242, 243, 244, 245, 246, 247, 248, 249, 250, 251, 252, 253, 254, 255, 256, 257, 258, 259, 260, 261, 262, 263, 264, 265, 266, 267, 268, 269, 270, 271, 272, 273, 274, 275], \"y\": [-0.9979709727278382, -1.6565053468674487, -1.2974201961963636, -1.2846120327241344, -1.2869466296810628, -1.2389072733202178, -1.1836795219226577, -1.2477616167667405, -1.2239245590216412, -1.164307051309011, -1.1155774653496593, -1.3686711744007392, -1.2625875077620403, -1.181212244232289, -1.1449042939523109, -1.5522384249048942, -1.407158169962421, -1.3131212957894596, -1.264144665794015, -1.2378040623158988, -1.3340155100522093, -1.2777827802186124, -1.2548043639002453, -1.2400662503683777, -1.2150481572205756, -1.201109468991674, -1.195435053825812, -1.172980482375407, -1.150575116539938, -1.4386772731272084, -1.336234119990109, -1.2803503816060742, -1.2519945267550863, -1.2384602634764392, -1.2423691111220878, -1.30362871604411, -1.2989589482148423, -1.2725894007634413, -1.2549273526078257, -1.236917819856729, -1.2260202536703035, -1.2222479768162204, -1.2288106975811872, -1.2185835350434946, -1.2634029167363239, -1.2567463313315692, -1.2953690938997844, -1.2792483022156849, -1.2730155665883347, -1.2723213437647583, -1.280167816183781, -1.2838345428978772, -1.2838874384588148, -1.276616041070893, -1.2636908726871459, -1.2642394294112487, -1.264098308273626, -1.2434665453502598, -1.2312125780621712, -1.227910411565201, -1.2101929656638268, -1.1962213105925579, -1.1923577629268007, -1.16668864712854, -1.1583624261393672, -1.134576530325863, -1.1112279026372425, -1.076162576674062, -1.506738368103929, -1.4944709735346566, -1.3846912159298177, -1.3533633650416719, -1.319999154140429, -1.2997883158621002, -1.285744115874385, -1.340546535645983, -1.3130267896882575, -1.274755752118396, -1.2661749293570828, -1.258639152731891, -1.2568247400955737, -1.2515100301083377, -1.2335806124132151, -1.2367196421777655, -1.2496723544993058, -1.225873555232658, -1.233788438815834, -1.2112135453139867, -1.2244025172827198, -1.2147699752401495, -1.1886527788896353, -1.162543199445654, -1.1447507302878233, -1.1090966812896388, -1.0569138541449368, -1.0413740639994387, -0.9787132217293033, -0.9356766000729008, -0.8885083863009365, -0.8150571233095857, -0.7291836709946193, -0.6372302835104268, -0.5684324349750495, -0.49307571918906534, -0.384337769349703, -0.28794385860674104, -0.21792993933794313, -0.14953294560256405, -0.0694900565201211, 0.030232924680044335, 0.10711090590585934, 0.16676785129065913, 0.2505709262678189, 0.28499569330570185, 0.43917996796675907, 0.5070972792336332, 0.5303701610642114, 0.6056345065615678, 0.6162552310981345, 0.6313322360268859, 0.6798323158046738, 0.6749998819289729, 0.7048407109042032, 0.7073423461175085, 0.6970089927699958, 0.7225210944061186, 0.7087922119057107, 0.766740986628893, 0.7566639284198691, 0.7723680845836937, 0.7447526761862654, 0.7602973387131775, 0.7542268019301795, 0.7439106331000158, 0.7665943630107787, 0.702026791119767, 0.7474577166709561, 0.7633118788634549, 0.7787892869648757, 0.7661734584582255, 0.766061028668005, 0.7941344961639498, 0.8098504955377527, 0.8022996738258313, 0.8144668098067077, 0.8116456599092288, 0.7991385534636519, 0.7956119026258909, 0.7634763100798436, 0.7725408316702063, 0.7590240984463135, 0.7620616163850131, 0.7509733174996975, 0.7368085878203348, 0.7424742218201008, 0.7315782145065345, 0.7483161143260589, 0.7395360177120619, 0.7475747668298409, 0.7495805391858837, 0.7539592549186328, 0.7557795079633534, 0.7566646274929116, 0.7827349397360656, 0.8154940465933431, 0.7985703342327145, 0.8909719636154027, 0.959856699552942, 0.7083856554241081, 0.688098691145687, 0.694420767412497, 0.7241956772928213, 0.7217862330709747, 0.7150271104093375, 0.7253921345004832, 0.8333475585905327, 0.7994442952377213, 0.7930882428243696, 0.7951331152261283, 0.7920923251219835, 0.804896134420506, 0.812963314656903, 0.824190696411087, 0.8295733465302768, 0.8164515206744233, 0.8268947924817511, 0.8165021278601893, 0.8261010116975266, 0.8395729877934549, 0.8510098661592195, 0.8452791812771352, 0.8471994366480303, 0.8502446319042402, 0.8546104900197301, 0.8584630906564262, 0.8514396188254858, 0.8609436468531968, 0.8627997945432527, 0.8698937057930805, 0.8684906857305189, 0.8772560272925798, 0.8946973566155266, 0.8889025046806186, 0.912540704555589, 0.9278081114811874, 0.9397555489111848, 0.9578282267780496, 0.9718437605712256, 1.0236540684502378, 1.0323622461003308, 1.0870519940410464, 1.155296644886142, 1.1239909344046553, 1.2532989084546342, 0.660896124926684, 0.664253104866098, 0.6680703777106669, 0.6221074576620669, 0.5771730361101441, 0.5720740676203372, 0.5773440045193452, 0.5960290073814923, 0.6050118717346643, 0.6148518423123783, 0.6300676269159451, 0.6460736126324086, 0.6433075736376471, 0.6634230963597606, 0.6756880190485806, 0.6877288292213495, 0.6890178610074433, 0.7085112309790221, 0.7163705949677047, 0.7218211406980459, 0.7266401563503058, 0.7330802003545135, 0.7282033696619878, 0.7296653828540951, 0.7329559932488275, 0.7289821418559931, 0.7399587712491886, 0.7348762981672102, 0.7506450740795376, 0.7445440059640014, 0.7485711796120232, 0.7500300760669474, 0.7588364342949023, 0.7559153489227047, 0.76076426077469, 0.7809107961871854, 0.7760152601933945, 0.775235481011579, 0.7906990240876144, 0.8347697965352192, 0.7511569770885932, 0.7624513465855419, 0.7626569001066202, 0.7728083863597207, 0.7884812884650602, 0.7525883290341308, 0.7734897794502659, 0.8044148494327359, 0.7679798120134329, 0.7708119805917664, 0.7930904169394521, 0.8206685927407092, 0.8656607549492737, 0.9550878357007544, 0.6377346876483496, 0.7152879107392346, 0.7554889170006708, 0.7646082996949329, 0.7651320176712493, 0.8151208327484919, 1.0406892179885525]}],\n",
              "                        {\"template\": {\"data\": {\"bar\": [{\"error_x\": {\"color\": \"#2a3f5f\"}, \"error_y\": {\"color\": \"#2a3f5f\"}, \"marker\": {\"line\": {\"color\": \"#E5ECF6\", \"width\": 0.5}}, \"type\": \"bar\"}], \"barpolar\": [{\"marker\": {\"line\": {\"color\": \"#E5ECF6\", \"width\": 0.5}}, \"type\": \"barpolar\"}], \"carpet\": [{\"aaxis\": {\"endlinecolor\": \"#2a3f5f\", \"gridcolor\": \"white\", \"linecolor\": \"white\", \"minorgridcolor\": \"white\", \"startlinecolor\": \"#2a3f5f\"}, \"baxis\": {\"endlinecolor\": \"#2a3f5f\", \"gridcolor\": \"white\", \"linecolor\": \"white\", \"minorgridcolor\": \"white\", \"startlinecolor\": \"#2a3f5f\"}, \"type\": \"carpet\"}], \"choropleth\": [{\"colorbar\": {\"outlinewidth\": 0, \"ticks\": \"\"}, \"type\": \"choropleth\"}], \"contour\": [{\"colorbar\": {\"outlinewidth\": 0, \"ticks\": \"\"}, \"colorscale\": [[0.0, \"#0d0887\"], [0.1111111111111111, \"#46039f\"], [0.2222222222222222, \"#7201a8\"], [0.3333333333333333, \"#9c179e\"], [0.4444444444444444, \"#bd3786\"], [0.5555555555555556, \"#d8576b\"], [0.6666666666666666, \"#ed7953\"], [0.7777777777777778, \"#fb9f3a\"], [0.8888888888888888, \"#fdca26\"], [1.0, \"#f0f921\"]], \"type\": \"contour\"}], \"contourcarpet\": [{\"colorbar\": {\"outlinewidth\": 0, \"ticks\": \"\"}, \"type\": \"contourcarpet\"}], \"heatmap\": [{\"colorbar\": {\"outlinewidth\": 0, \"ticks\": \"\"}, \"colorscale\": [[0.0, \"#0d0887\"], [0.1111111111111111, \"#46039f\"], [0.2222222222222222, \"#7201a8\"], [0.3333333333333333, \"#9c179e\"], [0.4444444444444444, \"#bd3786\"], [0.5555555555555556, \"#d8576b\"], [0.6666666666666666, \"#ed7953\"], [0.7777777777777778, \"#fb9f3a\"], [0.8888888888888888, \"#fdca26\"], [1.0, \"#f0f921\"]], \"type\": \"heatmap\"}], \"heatmapgl\": [{\"colorbar\": {\"outlinewidth\": 0, \"ticks\": \"\"}, \"colorscale\": [[0.0, \"#0d0887\"], [0.1111111111111111, \"#46039f\"], [0.2222222222222222, \"#7201a8\"], [0.3333333333333333, \"#9c179e\"], [0.4444444444444444, \"#bd3786\"], [0.5555555555555556, \"#d8576b\"], [0.6666666666666666, \"#ed7953\"], [0.7777777777777778, \"#fb9f3a\"], [0.8888888888888888, \"#fdca26\"], [1.0, \"#f0f921\"]], \"type\": \"heatmapgl\"}], \"histogram\": [{\"marker\": {\"colorbar\": {\"outlinewidth\": 0, \"ticks\": \"\"}}, \"type\": \"histogram\"}], \"histogram2d\": [{\"colorbar\": {\"outlinewidth\": 0, \"ticks\": \"\"}, \"colorscale\": [[0.0, \"#0d0887\"], [0.1111111111111111, \"#46039f\"], [0.2222222222222222, \"#7201a8\"], [0.3333333333333333, \"#9c179e\"], [0.4444444444444444, \"#bd3786\"], [0.5555555555555556, \"#d8576b\"], [0.6666666666666666, \"#ed7953\"], [0.7777777777777778, \"#fb9f3a\"], [0.8888888888888888, \"#fdca26\"], [1.0, \"#f0f921\"]], \"type\": \"histogram2d\"}], \"histogram2dcontour\": [{\"colorbar\": {\"outlinewidth\": 0, \"ticks\": \"\"}, \"colorscale\": [[0.0, \"#0d0887\"], [0.1111111111111111, \"#46039f\"], [0.2222222222222222, \"#7201a8\"], [0.3333333333333333, \"#9c179e\"], [0.4444444444444444, \"#bd3786\"], [0.5555555555555556, \"#d8576b\"], [0.6666666666666666, \"#ed7953\"], [0.7777777777777778, \"#fb9f3a\"], [0.8888888888888888, \"#fdca26\"], [1.0, \"#f0f921\"]], \"type\": \"histogram2dcontour\"}], \"mesh3d\": [{\"colorbar\": {\"outlinewidth\": 0, \"ticks\": \"\"}, \"type\": \"mesh3d\"}], \"parcoords\": [{\"line\": {\"colorbar\": {\"outlinewidth\": 0, \"ticks\": \"\"}}, \"type\": \"parcoords\"}], \"pie\": [{\"automargin\": true, \"type\": \"pie\"}], \"scatter\": [{\"marker\": {\"colorbar\": {\"outlinewidth\": 0, \"ticks\": \"\"}}, \"type\": \"scatter\"}], \"scatter3d\": [{\"line\": {\"colorbar\": {\"outlinewidth\": 0, \"ticks\": \"\"}}, \"marker\": {\"colorbar\": {\"outlinewidth\": 0, \"ticks\": \"\"}}, \"type\": \"scatter3d\"}], \"scattercarpet\": [{\"marker\": {\"colorbar\": {\"outlinewidth\": 0, \"ticks\": \"\"}}, \"type\": \"scattercarpet\"}], \"scattergeo\": [{\"marker\": {\"colorbar\": {\"outlinewidth\": 0, \"ticks\": \"\"}}, \"type\": \"scattergeo\"}], \"scattergl\": [{\"marker\": {\"colorbar\": {\"outlinewidth\": 0, \"ticks\": \"\"}}, \"type\": \"scattergl\"}], \"scattermapbox\": [{\"marker\": {\"colorbar\": {\"outlinewidth\": 0, \"ticks\": \"\"}}, \"type\": \"scattermapbox\"}], \"scatterpolar\": [{\"marker\": {\"colorbar\": {\"outlinewidth\": 0, \"ticks\": \"\"}}, \"type\": \"scatterpolar\"}], \"scatterpolargl\": [{\"marker\": {\"colorbar\": {\"outlinewidth\": 0, \"ticks\": \"\"}}, \"type\": \"scatterpolargl\"}], \"scatterternary\": [{\"marker\": {\"colorbar\": {\"outlinewidth\": 0, \"ticks\": \"\"}}, \"type\": \"scatterternary\"}], \"surface\": [{\"colorbar\": {\"outlinewidth\": 0, \"ticks\": \"\"}, \"colorscale\": [[0.0, \"#0d0887\"], [0.1111111111111111, \"#46039f\"], [0.2222222222222222, \"#7201a8\"], [0.3333333333333333, \"#9c179e\"], [0.4444444444444444, \"#bd3786\"], [0.5555555555555556, \"#d8576b\"], [0.6666666666666666, \"#ed7953\"], [0.7777777777777778, \"#fb9f3a\"], [0.8888888888888888, \"#fdca26\"], [1.0, \"#f0f921\"]], \"type\": \"surface\"}], \"table\": [{\"cells\": {\"fill\": {\"color\": \"#EBF0F8\"}, \"line\": {\"color\": \"white\"}}, \"header\": {\"fill\": {\"color\": \"#C8D4E3\"}, \"line\": {\"color\": \"white\"}}, \"type\": \"table\"}]}, \"layout\": {\"annotationdefaults\": {\"arrowcolor\": \"#2a3f5f\", \"arrowhead\": 0, \"arrowwidth\": 1}, \"coloraxis\": {\"colorbar\": {\"outlinewidth\": 0, \"ticks\": \"\"}}, \"colorscale\": {\"diverging\": [[0, \"#8e0152\"], [0.1, \"#c51b7d\"], [0.2, \"#de77ae\"], [0.3, \"#f1b6da\"], [0.4, \"#fde0ef\"], [0.5, \"#f7f7f7\"], [0.6, \"#e6f5d0\"], [0.7, \"#b8e186\"], [0.8, \"#7fbc41\"], [0.9, \"#4d9221\"], [1, \"#276419\"]], \"sequential\": [[0.0, \"#0d0887\"], [0.1111111111111111, \"#46039f\"], [0.2222222222222222, \"#7201a8\"], [0.3333333333333333, \"#9c179e\"], [0.4444444444444444, \"#bd3786\"], [0.5555555555555556, \"#d8576b\"], [0.6666666666666666, \"#ed7953\"], [0.7777777777777778, \"#fb9f3a\"], [0.8888888888888888, \"#fdca26\"], [1.0, \"#f0f921\"]], \"sequentialminus\": [[0.0, \"#0d0887\"], [0.1111111111111111, \"#46039f\"], [0.2222222222222222, \"#7201a8\"], [0.3333333333333333, \"#9c179e\"], [0.4444444444444444, \"#bd3786\"], [0.5555555555555556, \"#d8576b\"], [0.6666666666666666, \"#ed7953\"], [0.7777777777777778, \"#fb9f3a\"], [0.8888888888888888, \"#fdca26\"], [1.0, \"#f0f921\"]]}, \"colorway\": [\"#636efa\", \"#EF553B\", \"#00cc96\", \"#ab63fa\", \"#FFA15A\", \"#19d3f3\", \"#FF6692\", \"#B6E880\", \"#FF97FF\", \"#FECB52\"], \"font\": {\"color\": \"#2a3f5f\"}, \"geo\": {\"bgcolor\": \"white\", \"lakecolor\": \"white\", \"landcolor\": \"#E5ECF6\", \"showlakes\": true, \"showland\": true, \"subunitcolor\": \"white\"}, \"hoverlabel\": {\"align\": \"left\"}, \"hovermode\": \"closest\", \"mapbox\": {\"style\": \"light\"}, \"paper_bgcolor\": \"white\", \"plot_bgcolor\": \"#E5ECF6\", \"polar\": {\"angularaxis\": {\"gridcolor\": \"white\", \"linecolor\": \"white\", \"ticks\": \"\"}, \"bgcolor\": \"#E5ECF6\", \"radialaxis\": {\"gridcolor\": \"white\", \"linecolor\": \"white\", \"ticks\": \"\"}}, \"scene\": {\"xaxis\": {\"backgroundcolor\": \"#E5ECF6\", \"gridcolor\": \"white\", \"gridwidth\": 2, \"linecolor\": \"white\", \"showbackground\": true, \"ticks\": \"\", \"zerolinecolor\": \"white\"}, \"yaxis\": {\"backgroundcolor\": \"#E5ECF6\", \"gridcolor\": \"white\", \"gridwidth\": 2, \"linecolor\": \"white\", \"showbackground\": true, \"ticks\": \"\", \"zerolinecolor\": \"white\"}, \"zaxis\": {\"backgroundcolor\": \"#E5ECF6\", \"gridcolor\": \"white\", \"gridwidth\": 2, \"linecolor\": \"white\", \"showbackground\": true, \"ticks\": \"\", \"zerolinecolor\": \"white\"}}, \"shapedefaults\": {\"line\": {\"color\": \"#2a3f5f\"}}, \"ternary\": {\"aaxis\": {\"gridcolor\": \"white\", \"linecolor\": \"white\", \"ticks\": \"\"}, \"baxis\": {\"gridcolor\": \"white\", \"linecolor\": \"white\", \"ticks\": \"\"}, \"bgcolor\": \"#E5ECF6\", \"caxis\": {\"gridcolor\": \"white\", \"linecolor\": \"white\", \"ticks\": \"\"}}, \"title\": {\"x\": 0.05}, \"xaxis\": {\"automargin\": true, \"gridcolor\": \"white\", \"linecolor\": \"white\", \"ticks\": \"\", \"title\": {\"standoff\": 15}, \"zerolinecolor\": \"white\", \"zerolinewidth\": 2}, \"yaxis\": {\"automargin\": true, \"gridcolor\": \"white\", \"linecolor\": \"white\", \"ticks\": \"\", \"title\": {\"standoff\": 15}, \"zerolinecolor\": \"white\", \"zerolinewidth\": 2}}}, \"title\": {\"text\": \"Signal Comparison\"}},\n",
              "                        {\"responsive\": true}\n",
              "                    ).then(function(){\n",
              "                            \n",
              "var gd = document.getElementById('4e639a56-30b8-4cfb-97cf-db4fad7c73e2');\n",
              "var x = new MutationObserver(function (mutations, observer) {{\n",
              "        var display = window.getComputedStyle(gd).display;\n",
              "        if (!display || display === 'none') {{\n",
              "            console.log([gd, 'removed!']);\n",
              "            Plotly.purge(gd);\n",
              "            observer.disconnect();\n",
              "        }}\n",
              "}});\n",
              "\n",
              "// Listen for the removal of the full notebook cells\n",
              "var notebookContainer = gd.closest('#notebook-container');\n",
              "if (notebookContainer) {{\n",
              "    x.observe(notebookContainer, {childList: true});\n",
              "}}\n",
              "\n",
              "// Listen for the clearing of the current output cell\n",
              "var outputEl = gd.closest('.output');\n",
              "if (outputEl) {{\n",
              "    x.observe(outputEl, {childList: true});\n",
              "}}\n",
              "\n",
              "                        })\n",
              "                };\n",
              "                \n",
              "            </script>\n",
              "        </div>\n",
              "</body>\n",
              "</html>"
            ]
          },
          "metadata": {
            "tags": []
          }
        }
      ]
    }
  ]
}