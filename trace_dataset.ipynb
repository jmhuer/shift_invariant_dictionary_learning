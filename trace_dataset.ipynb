{
  "nbformat": 4,
  "nbformat_minor": 0,
  "metadata": {
    "colab": {
      "name": "Untitled13.ipynb",
      "provenance": [],
      "authorship_tag": "ABX9TyNB3JYkNH6PbiJhJQ1N4Qn6",
      "include_colab_link": true
    },
    "kernelspec": {
      "name": "python3",
      "display_name": "Python 3"
    },
    "language_info": {
      "name": "python"
    }
  },
  "cells": [
    {
      "cell_type": "markdown",
      "metadata": {
        "id": "view-in-github",
        "colab_type": "text"
      },
      "source": [
        "<a href=\"https://colab.research.google.com/github/jmhuer/shift_invariant_dictionary_learning/blob/main/trace_dataset.ipynb\" target=\"_parent\"><img src=\"https://colab.research.google.com/assets/colab-badge.svg\" alt=\"Open In Colab\"/></a>"
      ]
    },
    {
      "cell_type": "code",
      "metadata": {
        "colab": {
          "base_uri": "https://localhost:8080/"
        },
        "id": "qYMrUx8Vog0V",
        "outputId": "0cbb9381-2786-4a21-c30b-d4b8aa761120"
      },
      "source": [
        "!pip install skorch\n",
        "!pip install tqdm\n",
        "!git clone https://github.com/jmhuer/optimization_tools\n",
        "!pip install alphacsc\n",
        "\n",
        "from optimization_tools.utils import download_gdrive\n",
        "train_data = '1BcbMFSk-dyoBaEvV1Wb9Z00f3j5iCp0G' ##google drive id of excell \n",
        "test_data = \"1dnY7etRMDFvSLAkKUMceWBcuuJLaHnrb\"\n",
        "\n",
        "download_gdrive(train_data)\n",
        "download_gdrive(test_data)"
      ],
      "execution_count": 1,
      "outputs": [
        {
          "output_type": "stream",
          "text": [
            "Collecting skorch\n",
            "\u001b[?25l  Downloading https://files.pythonhosted.org/packages/78/bd/f714a726f2f3106abe5a24d11b1fe8e20570323479164b829f5d4b80f7f2/skorch-0.10.0-py3-none-any.whl (128kB)\n",
            "\r\u001b[K     |██▌                             | 10kB 14.6MB/s eta 0:00:01\r\u001b[K     |█████                           | 20kB 20.7MB/s eta 0:00:01\r\u001b[K     |███████▋                        | 30kB 24.2MB/s eta 0:00:01\r\u001b[K     |██████████▏                     | 40kB 26.1MB/s eta 0:00:01\r\u001b[K     |████████████▊                   | 51kB 27.2MB/s eta 0:00:01\r\u001b[K     |███████████████▎                | 61kB 29.6MB/s eta 0:00:01\r\u001b[K     |█████████████████▉              | 71kB 24.9MB/s eta 0:00:01\r\u001b[K     |████████████████████▍           | 81kB 25.9MB/s eta 0:00:01\r\u001b[K     |███████████████████████         | 92kB 26.2MB/s eta 0:00:01\r\u001b[K     |█████████████████████████▍      | 102kB 27.6MB/s eta 0:00:01\r\u001b[K     |████████████████████████████    | 112kB 27.6MB/s eta 0:00:01\r\u001b[K     |██████████████████████████████▌ | 122kB 27.6MB/s eta 0:00:01\r\u001b[K     |████████████████████████████████| 133kB 27.6MB/s \n",
            "\u001b[?25hRequirement already satisfied: scipy>=1.1.0 in /usr/local/lib/python3.7/dist-packages (from skorch) (1.4.1)\n",
            "Requirement already satisfied: tqdm>=4.14.0 in /usr/local/lib/python3.7/dist-packages (from skorch) (4.41.1)\n",
            "Requirement already satisfied: tabulate>=0.7.7 in /usr/local/lib/python3.7/dist-packages (from skorch) (0.8.9)\n",
            "Requirement already satisfied: scikit-learn>=0.19.1 in /usr/local/lib/python3.7/dist-packages (from skorch) (0.22.2.post1)\n",
            "Requirement already satisfied: numpy>=1.13.3 in /usr/local/lib/python3.7/dist-packages (from skorch) (1.19.5)\n",
            "Requirement already satisfied: joblib>=0.11 in /usr/local/lib/python3.7/dist-packages (from scikit-learn>=0.19.1->skorch) (1.0.1)\n",
            "Installing collected packages: skorch\n",
            "Successfully installed skorch-0.10.0\n",
            "Requirement already satisfied: tqdm in /usr/local/lib/python3.7/dist-packages (4.41.1)\n",
            "Cloning into 'optimization_tools'...\n",
            "remote: Enumerating objects: 46, done.\u001b[K\n",
            "remote: Counting objects: 100% (46/46), done.\u001b[K\n",
            "remote: Compressing objects: 100% (33/33), done.\u001b[K\n",
            "remote: Total 46 (delta 12), reused 39 (delta 8), pack-reused 0\u001b[K\n",
            "Unpacking objects: 100% (46/46), done.\n",
            "Collecting alphacsc\n",
            "\u001b[?25l  Downloading https://files.pythonhosted.org/packages/69/ee/d9ab886f431141431f3d27f0f2622d97689272fc94802f2ca977ade4b21d/alphacsc-0.2.2.tar.gz (5.6MB)\n",
            "\u001b[K     |████████████████████████████████| 5.6MB 26.0MB/s \n",
            "\u001b[?25h  Installing build dependencies ... \u001b[?25l\u001b[?25hdone\n",
            "  Getting requirements to build wheel ... \u001b[?25l\u001b[?25hdone\n",
            "    Preparing wheel metadata ... \u001b[?25l\u001b[?25hdone\n",
            "Collecting mne\n",
            "\u001b[?25l  Downloading https://files.pythonhosted.org/packages/60/f7/2bf5de3fad42b66d00ee27539bc3be0260b4e66fdecc12f740cdf2daf2e7/mne-0.23.0-py3-none-any.whl (6.9MB)\n",
            "\u001b[K     |████████████████████████████████| 7.0MB 35.5MB/s \n",
            "\u001b[?25hRequirement already satisfied: matplotlib in /usr/local/lib/python3.7/dist-packages (from alphacsc) (3.2.2)\n",
            "Requirement already satisfied: scipy in /usr/local/lib/python3.7/dist-packages (from alphacsc) (1.4.1)\n",
            "Requirement already satisfied: scikit-learn in /usr/local/lib/python3.7/dist-packages (from alphacsc) (0.22.2.post1)\n",
            "Requirement already satisfied: numpy in /usr/local/lib/python3.7/dist-packages (from alphacsc) (1.19.5)\n",
            "Requirement already satisfied: numba in /usr/local/lib/python3.7/dist-packages (from alphacsc) (0.51.2)\n",
            "Requirement already satisfied: joblib in /usr/local/lib/python3.7/dist-packages (from alphacsc) (1.0.1)\n",
            "Requirement already satisfied: python-dateutil>=2.1 in /usr/local/lib/python3.7/dist-packages (from matplotlib->alphacsc) (2.8.1)\n",
            "Requirement already satisfied: pyparsing!=2.0.4,!=2.1.2,!=2.1.6,>=2.0.1 in /usr/local/lib/python3.7/dist-packages (from matplotlib->alphacsc) (2.4.7)\n",
            "Requirement already satisfied: kiwisolver>=1.0.1 in /usr/local/lib/python3.7/dist-packages (from matplotlib->alphacsc) (1.3.1)\n",
            "Requirement already satisfied: cycler>=0.10 in /usr/local/lib/python3.7/dist-packages (from matplotlib->alphacsc) (0.10.0)\n",
            "Requirement already satisfied: llvmlite<0.35,>=0.34.0.dev0 in /usr/local/lib/python3.7/dist-packages (from numba->alphacsc) (0.34.0)\n",
            "Requirement already satisfied: setuptools in /usr/local/lib/python3.7/dist-packages (from numba->alphacsc) (57.0.0)\n",
            "Requirement already satisfied: six>=1.5 in /usr/local/lib/python3.7/dist-packages (from python-dateutil>=2.1->matplotlib->alphacsc) (1.15.0)\n",
            "Building wheels for collected packages: alphacsc\n",
            "  Building wheel for alphacsc (PEP 517) ... \u001b[?25l\u001b[?25hdone\n",
            "  Created wheel for alphacsc: filename=alphacsc-0.2.2-cp37-cp37m-linux_x86_64.whl size=1608588 sha256=fcd0b105d579e498b6c165ba5c544c4aba235d6963ba3cb1540f39b79aa878ca\n",
            "  Stored in directory: /root/.cache/pip/wheels/8f/71/0c/11c3ce44f8aea6ac3ef4a1f2c92044ad3b914a143ecd70673d\n",
            "Successfully built alphacsc\n",
            "Installing collected packages: mne, alphacsc\n",
            "Successfully installed alphacsc-0.2.2 mne-0.23.0\n",
            "Downloading...\n",
            "From: https://drive.google.com/uc?id=1BcbMFSk-dyoBaEvV1Wb9Z00f3j5iCp0G\n",
            "To: /content/Trace_TRAIN.xlsx\n",
            "100%|##########| 286k/286k [00:00<00:00, 4.53MB/s]\n",
            "\n",
            "Downloading...\n",
            "From: https://drive.google.com/uc?id=1dnY7etRMDFvSLAkKUMceWBcuuJLaHnrb\n",
            "To: /content/Trace_TEST.xlsx\n",
            "100%|##########| 218k/218k [00:00<00:00, 6.89MB/s]\n",
            "\n"
          ],
          "name": "stdout"
        }
      ]
    },
    {
      "cell_type": "code",
      "metadata": {
        "id": "Xxc28Q4wpq1W"
      },
      "source": [
        "import pandas as pd\n",
        "\n",
        "def open_excel(filename, sheet_name):\n",
        "    excell = pd.ExcelFile(filename)\n",
        "    excell.sheet_names\n",
        "    df = excell.parse(sheet_name)\n",
        "    df.columns = df.columns.map(str)\n",
        "    df = df.dropna().reset_index(drop=True)\n",
        "    return df\n",
        "\n",
        "df = open_excel(\"/content/Trace_TRAIN.xlsx\", \"Trace_TRAIN\")\n",
        "\n",
        "df_test = open_excel(\"/content/Trace_TEST.xlsx\", \"Trace_TEST\")\n",
        "df_test.columns = df_test.columns.map(str)"
      ],
      "execution_count": 2,
      "outputs": []
    },
    {
      "cell_type": "code",
      "metadata": {
        "colab": {
          "base_uri": "https://localhost:8080/"
        },
        "id": "6L9B38w5wfsO",
        "outputId": "d81f3d52-8c7b-4425-9c1c-c2014d3341ae"
      },
      "source": [
        "df_test.shape[1]"
      ],
      "execution_count": 3,
      "outputs": [
        {
          "output_type": "execute_result",
          "data": {
            "text/plain": [
              "276"
            ]
          },
          "metadata": {
            "tags": []
          },
          "execution_count": 3
        }
      ]
    },
    {
      "cell_type": "code",
      "metadata": {
        "colab": {
          "base_uri": "https://localhost:8080/"
        },
        "id": "XrxOWi2pvY8Q",
        "outputId": "1e9bb9de-89e0-4ff3-d08e-65af41d72be1"
      },
      "source": [
        "\n",
        "for index, row in df_test.iterrows():\n",
        "    print(row[\"class\"])\n",
        "    break"
      ],
      "execution_count": 4,
      "outputs": [
        {
          "output_type": "stream",
          "text": [
            "3.0\n"
          ],
          "name": "stdout"
        }
      ]
    },
    {
      "cell_type": "markdown",
      "metadata": {
        "id": "QMacjHCAh6OU"
      },
      "source": [
        "## Dictionary learning"
      ]
    },
    {
      "cell_type": "code",
      "metadata": {
        "id": "1JxcyGfph4Ht"
      },
      "source": [
        "n_times_atom = 80  # L\n",
        "n_times = df.shape[1] - 1  # T (minus 1 for class column)\n",
        "n_atoms = 5  # K\n",
        "n_trials = df.shape[0]  # N\n",
        "n_channels = 1\n",
        "\n"
      ],
      "execution_count": 156,
      "outputs": []
    },
    {
      "cell_type": "code",
      "metadata": {
        "colab": {
          "base_uri": "https://localhost:8080/",
          "height": 270
        },
        "id": "XtBrCsZ-wPvE",
        "outputId": "ea1a6700-d84c-40d8-a08f-831f0729a56a"
      },
      "source": [
        "df_test.head()"
      ],
      "execution_count": 157,
      "outputs": [
        {
          "output_type": "execute_result",
          "data": {
            "text/html": [
              "<div>\n",
              "<style scoped>\n",
              "    .dataframe tbody tr th:only-of-type {\n",
              "        vertical-align: middle;\n",
              "    }\n",
              "\n",
              "    .dataframe tbody tr th {\n",
              "        vertical-align: top;\n",
              "    }\n",
              "\n",
              "    .dataframe thead th {\n",
              "        text-align: right;\n",
              "    }\n",
              "</style>\n",
              "<table border=\"1\" class=\"dataframe\">\n",
              "  <thead>\n",
              "    <tr style=\"text-align: right;\">\n",
              "      <th></th>\n",
              "      <th>class</th>\n",
              "      <th>Unnamed: 1</th>\n",
              "      <th>Unnamed: 2</th>\n",
              "      <th>Unnamed: 3</th>\n",
              "      <th>Unnamed: 4</th>\n",
              "      <th>Unnamed: 5</th>\n",
              "      <th>Unnamed: 6</th>\n",
              "      <th>Unnamed: 7</th>\n",
              "      <th>Unnamed: 8</th>\n",
              "      <th>Unnamed: 9</th>\n",
              "      <th>Unnamed: 10</th>\n",
              "      <th>Unnamed: 11</th>\n",
              "      <th>Unnamed: 12</th>\n",
              "      <th>Unnamed: 13</th>\n",
              "      <th>Unnamed: 14</th>\n",
              "      <th>Unnamed: 15</th>\n",
              "      <th>Unnamed: 16</th>\n",
              "      <th>Unnamed: 17</th>\n",
              "      <th>Unnamed: 18</th>\n",
              "      <th>Unnamed: 19</th>\n",
              "      <th>Unnamed: 20</th>\n",
              "      <th>Unnamed: 21</th>\n",
              "      <th>Unnamed: 22</th>\n",
              "      <th>Unnamed: 23</th>\n",
              "      <th>Unnamed: 24</th>\n",
              "      <th>Unnamed: 25</th>\n",
              "      <th>Unnamed: 26</th>\n",
              "      <th>Unnamed: 27</th>\n",
              "      <th>Unnamed: 28</th>\n",
              "      <th>Unnamed: 29</th>\n",
              "      <th>Unnamed: 30</th>\n",
              "      <th>Unnamed: 31</th>\n",
              "      <th>Unnamed: 32</th>\n",
              "      <th>Unnamed: 33</th>\n",
              "      <th>Unnamed: 34</th>\n",
              "      <th>Unnamed: 35</th>\n",
              "      <th>Unnamed: 36</th>\n",
              "      <th>Unnamed: 37</th>\n",
              "      <th>Unnamed: 38</th>\n",
              "      <th>Unnamed: 39</th>\n",
              "      <th>...</th>\n",
              "      <th>Unnamed: 236</th>\n",
              "      <th>Unnamed: 237</th>\n",
              "      <th>Unnamed: 238</th>\n",
              "      <th>Unnamed: 239</th>\n",
              "      <th>Unnamed: 240</th>\n",
              "      <th>Unnamed: 241</th>\n",
              "      <th>Unnamed: 242</th>\n",
              "      <th>Unnamed: 243</th>\n",
              "      <th>Unnamed: 244</th>\n",
              "      <th>Unnamed: 245</th>\n",
              "      <th>Unnamed: 246</th>\n",
              "      <th>Unnamed: 247</th>\n",
              "      <th>Unnamed: 248</th>\n",
              "      <th>Unnamed: 249</th>\n",
              "      <th>Unnamed: 250</th>\n",
              "      <th>Unnamed: 251</th>\n",
              "      <th>Unnamed: 252</th>\n",
              "      <th>Unnamed: 253</th>\n",
              "      <th>Unnamed: 254</th>\n",
              "      <th>Unnamed: 255</th>\n",
              "      <th>Unnamed: 256</th>\n",
              "      <th>Unnamed: 257</th>\n",
              "      <th>Unnamed: 258</th>\n",
              "      <th>Unnamed: 259</th>\n",
              "      <th>Unnamed: 260</th>\n",
              "      <th>Unnamed: 261</th>\n",
              "      <th>Unnamed: 262</th>\n",
              "      <th>Unnamed: 263</th>\n",
              "      <th>Unnamed: 264</th>\n",
              "      <th>Unnamed: 265</th>\n",
              "      <th>Unnamed: 266</th>\n",
              "      <th>Unnamed: 267</th>\n",
              "      <th>Unnamed: 268</th>\n",
              "      <th>Unnamed: 269</th>\n",
              "      <th>Unnamed: 270</th>\n",
              "      <th>Unnamed: 271</th>\n",
              "      <th>Unnamed: 272</th>\n",
              "      <th>Unnamed: 273</th>\n",
              "      <th>Unnamed: 274</th>\n",
              "      <th>Unnamed: 275</th>\n",
              "    </tr>\n",
              "  </thead>\n",
              "  <tbody>\n",
              "    <tr>\n",
              "      <th>0</th>\n",
              "      <td>3</td>\n",
              "      <td>-1.296736</td>\n",
              "      <td>-1.333738</td>\n",
              "      <td>-1.349496</td>\n",
              "      <td>-1.318587</td>\n",
              "      <td>-1.307479</td>\n",
              "      <td>-1.255202</td>\n",
              "      <td>-1.273145</td>\n",
              "      <td>-1.254287</td>\n",
              "      <td>-1.298989</td>\n",
              "      <td>-1.290773</td>\n",
              "      <td>-1.302922</td>\n",
              "      <td>-1.300306</td>\n",
              "      <td>-1.307352</td>\n",
              "      <td>-1.297488</td>\n",
              "      <td>-1.283953</td>\n",
              "      <td>-1.341779</td>\n",
              "      <td>-1.321968</td>\n",
              "      <td>-1.292855</td>\n",
              "      <td>-1.295657</td>\n",
              "      <td>-1.246449</td>\n",
              "      <td>-1.354392</td>\n",
              "      <td>-1.323527</td>\n",
              "      <td>-1.308674</td>\n",
              "      <td>-1.288147</td>\n",
              "      <td>-1.277163</td>\n",
              "      <td>-1.322130</td>\n",
              "      <td>-1.269480</td>\n",
              "      <td>-1.298817</td>\n",
              "      <td>-1.273018</td>\n",
              "      <td>-1.330083</td>\n",
              "      <td>-1.240804</td>\n",
              "      <td>-1.302436</td>\n",
              "      <td>-1.364067</td>\n",
              "      <td>-1.292355</td>\n",
              "      <td>-1.290224</td>\n",
              "      <td>-1.290786</td>\n",
              "      <td>-1.320876</td>\n",
              "      <td>-1.312934</td>\n",
              "      <td>-1.321681</td>\n",
              "      <td>...</td>\n",
              "      <td>0.868469</td>\n",
              "      <td>0.791706</td>\n",
              "      <td>0.848278</td>\n",
              "      <td>0.814963</td>\n",
              "      <td>0.844200</td>\n",
              "      <td>0.804676</td>\n",
              "      <td>0.830579</td>\n",
              "      <td>0.811706</td>\n",
              "      <td>0.848178</td>\n",
              "      <td>0.887963</td>\n",
              "      <td>0.885087</td>\n",
              "      <td>0.804370</td>\n",
              "      <td>0.813127</td>\n",
              "      <td>0.783253</td>\n",
              "      <td>0.847750</td>\n",
              "      <td>0.857812</td>\n",
              "      <td>0.833870</td>\n",
              "      <td>0.820761</td>\n",
              "      <td>0.870627</td>\n",
              "      <td>0.787882</td>\n",
              "      <td>0.842882</td>\n",
              "      <td>0.795660</td>\n",
              "      <td>0.823243</td>\n",
              "      <td>0.819505</td>\n",
              "      <td>0.797467</td>\n",
              "      <td>0.819306</td>\n",
              "      <td>0.825646</td>\n",
              "      <td>0.812262</td>\n",
              "      <td>0.846602</td>\n",
              "      <td>0.837655</td>\n",
              "      <td>0.817590</td>\n",
              "      <td>0.851303</td>\n",
              "      <td>0.782615</td>\n",
              "      <td>0.801945</td>\n",
              "      <td>0.821274</td>\n",
              "      <td>0.810207</td>\n",
              "      <td>0.822209</td>\n",
              "      <td>0.819276</td>\n",
              "      <td>0.816343</td>\n",
              "      <td>0.794338</td>\n",
              "    </tr>\n",
              "    <tr>\n",
              "      <th>1</th>\n",
              "      <td>1</td>\n",
              "      <td>0.564214</td>\n",
              "      <td>0.545116</td>\n",
              "      <td>0.542047</td>\n",
              "      <td>0.563157</td>\n",
              "      <td>0.620198</td>\n",
              "      <td>0.581974</td>\n",
              "      <td>0.598603</td>\n",
              "      <td>0.578583</td>\n",
              "      <td>0.612213</td>\n",
              "      <td>0.622150</td>\n",
              "      <td>0.651862</td>\n",
              "      <td>0.611884</td>\n",
              "      <td>0.702007</td>\n",
              "      <td>0.611253</td>\n",
              "      <td>0.592521</td>\n",
              "      <td>0.588605</td>\n",
              "      <td>0.576464</td>\n",
              "      <td>0.558298</td>\n",
              "      <td>0.597151</td>\n",
              "      <td>0.599780</td>\n",
              "      <td>0.602532</td>\n",
              "      <td>0.602304</td>\n",
              "      <td>0.630566</td>\n",
              "      <td>0.599584</td>\n",
              "      <td>0.614938</td>\n",
              "      <td>0.633425</td>\n",
              "      <td>0.547959</td>\n",
              "      <td>0.572915</td>\n",
              "      <td>0.603394</td>\n",
              "      <td>0.613553</td>\n",
              "      <td>0.592205</td>\n",
              "      <td>0.650001</td>\n",
              "      <td>0.591099</td>\n",
              "      <td>0.645992</td>\n",
              "      <td>0.631558</td>\n",
              "      <td>0.546751</td>\n",
              "      <td>0.627571</td>\n",
              "      <td>0.613915</td>\n",
              "      <td>0.542942</td>\n",
              "      <td>...</td>\n",
              "      <td>0.554533</td>\n",
              "      <td>0.500871</td>\n",
              "      <td>0.527384</td>\n",
              "      <td>0.569502</td>\n",
              "      <td>0.532444</td>\n",
              "      <td>0.512395</td>\n",
              "      <td>0.559144</td>\n",
              "      <td>0.538515</td>\n",
              "      <td>0.496172</td>\n",
              "      <td>0.563448</td>\n",
              "      <td>0.558196</td>\n",
              "      <td>0.547331</td>\n",
              "      <td>0.541925</td>\n",
              "      <td>0.541562</td>\n",
              "      <td>0.599890</td>\n",
              "      <td>0.609105</td>\n",
              "      <td>0.573793</td>\n",
              "      <td>0.537794</td>\n",
              "      <td>0.517505</td>\n",
              "      <td>0.558873</td>\n",
              "      <td>0.573294</td>\n",
              "      <td>0.585470</td>\n",
              "      <td>0.587851</td>\n",
              "      <td>0.567978</td>\n",
              "      <td>0.586527</td>\n",
              "      <td>0.520116</td>\n",
              "      <td>0.614556</td>\n",
              "      <td>0.589304</td>\n",
              "      <td>0.539558</td>\n",
              "      <td>0.576140</td>\n",
              "      <td>0.568564</td>\n",
              "      <td>0.577551</td>\n",
              "      <td>0.620840</td>\n",
              "      <td>0.520834</td>\n",
              "      <td>0.568744</td>\n",
              "      <td>0.626330</td>\n",
              "      <td>0.530965</td>\n",
              "      <td>0.571332</td>\n",
              "      <td>0.586189</td>\n",
              "      <td>0.590860</td>\n",
              "    </tr>\n",
              "    <tr>\n",
              "      <th>2</th>\n",
              "      <td>3</td>\n",
              "      <td>-2.100779</td>\n",
              "      <td>-2.088201</td>\n",
              "      <td>-2.025100</td>\n",
              "      <td>-2.100239</td>\n",
              "      <td>-2.086126</td>\n",
              "      <td>-2.030557</td>\n",
              "      <td>-2.057606</td>\n",
              "      <td>-2.094286</td>\n",
              "      <td>-2.019413</td>\n",
              "      <td>-2.100592</td>\n",
              "      <td>-2.077596</td>\n",
              "      <td>-2.086217</td>\n",
              "      <td>-2.067445</td>\n",
              "      <td>-2.026826</td>\n",
              "      <td>-1.988130</td>\n",
              "      <td>-2.034455</td>\n",
              "      <td>-2.073608</td>\n",
              "      <td>-2.033534</td>\n",
              "      <td>-2.043946</td>\n",
              "      <td>-2.043691</td>\n",
              "      <td>-2.047009</td>\n",
              "      <td>-2.054476</td>\n",
              "      <td>-2.029235</td>\n",
              "      <td>-2.043709</td>\n",
              "      <td>-2.071321</td>\n",
              "      <td>-2.051201</td>\n",
              "      <td>-2.066278</td>\n",
              "      <td>-2.078206</td>\n",
              "      <td>-2.038419</td>\n",
              "      <td>-2.058166</td>\n",
              "      <td>-2.048246</td>\n",
              "      <td>-2.072147</td>\n",
              "      <td>-2.067382</td>\n",
              "      <td>-1.995005</td>\n",
              "      <td>-2.038438</td>\n",
              "      <td>-2.002107</td>\n",
              "      <td>-2.010124</td>\n",
              "      <td>-2.044430</td>\n",
              "      <td>-1.979272</td>\n",
              "      <td>...</td>\n",
              "      <td>0.543562</td>\n",
              "      <td>0.501355</td>\n",
              "      <td>0.610202</td>\n",
              "      <td>0.538363</td>\n",
              "      <td>0.565945</td>\n",
              "      <td>0.510124</td>\n",
              "      <td>0.519876</td>\n",
              "      <td>0.578270</td>\n",
              "      <td>0.552150</td>\n",
              "      <td>0.526030</td>\n",
              "      <td>0.529435</td>\n",
              "      <td>0.510975</td>\n",
              "      <td>0.533750</td>\n",
              "      <td>0.598374</td>\n",
              "      <td>0.535464</td>\n",
              "      <td>0.572777</td>\n",
              "      <td>0.581516</td>\n",
              "      <td>0.506503</td>\n",
              "      <td>0.531993</td>\n",
              "      <td>0.500033</td>\n",
              "      <td>0.517366</td>\n",
              "      <td>0.507823</td>\n",
              "      <td>0.544937</td>\n",
              "      <td>0.598653</td>\n",
              "      <td>0.544034</td>\n",
              "      <td>0.595354</td>\n",
              "      <td>0.588260</td>\n",
              "      <td>0.537135</td>\n",
              "      <td>0.551000</td>\n",
              "      <td>0.534877</td>\n",
              "      <td>0.589671</td>\n",
              "      <td>0.496224</td>\n",
              "      <td>0.537520</td>\n",
              "      <td>0.558377</td>\n",
              "      <td>0.547514</td>\n",
              "      <td>0.571221</td>\n",
              "      <td>0.542142</td>\n",
              "      <td>0.542945</td>\n",
              "      <td>0.543747</td>\n",
              "      <td>0.543874</td>\n",
              "    </tr>\n",
              "    <tr>\n",
              "      <th>3</th>\n",
              "      <td>2</td>\n",
              "      <td>0.738442</td>\n",
              "      <td>0.728175</td>\n",
              "      <td>0.757858</td>\n",
              "      <td>0.822484</td>\n",
              "      <td>0.734091</td>\n",
              "      <td>0.760751</td>\n",
              "      <td>0.811335</td>\n",
              "      <td>0.802686</td>\n",
              "      <td>0.728860</td>\n",
              "      <td>0.703921</td>\n",
              "      <td>0.678807</td>\n",
              "      <td>0.761075</td>\n",
              "      <td>0.751167</td>\n",
              "      <td>0.817078</td>\n",
              "      <td>0.747813</td>\n",
              "      <td>0.781549</td>\n",
              "      <td>0.775656</td>\n",
              "      <td>0.757780</td>\n",
              "      <td>0.693106</td>\n",
              "      <td>0.748162</td>\n",
              "      <td>0.778360</td>\n",
              "      <td>0.699534</td>\n",
              "      <td>0.786682</td>\n",
              "      <td>0.744153</td>\n",
              "      <td>0.746283</td>\n",
              "      <td>0.832787</td>\n",
              "      <td>0.753267</td>\n",
              "      <td>0.826130</td>\n",
              "      <td>0.740835</td>\n",
              "      <td>0.772521</td>\n",
              "      <td>0.770911</td>\n",
              "      <td>0.757556</td>\n",
              "      <td>0.808293</td>\n",
              "      <td>0.789985</td>\n",
              "      <td>0.698864</td>\n",
              "      <td>0.714306</td>\n",
              "      <td>0.729749</td>\n",
              "      <td>0.802062</td>\n",
              "      <td>0.751128</td>\n",
              "      <td>...</td>\n",
              "      <td>0.732571</td>\n",
              "      <td>0.693445</td>\n",
              "      <td>0.715897</td>\n",
              "      <td>0.775099</td>\n",
              "      <td>0.712643</td>\n",
              "      <td>0.727309</td>\n",
              "      <td>0.738201</td>\n",
              "      <td>0.753473</td>\n",
              "      <td>0.751290</td>\n",
              "      <td>0.665401</td>\n",
              "      <td>0.717172</td>\n",
              "      <td>0.734121</td>\n",
              "      <td>0.681781</td>\n",
              "      <td>0.761852</td>\n",
              "      <td>0.770698</td>\n",
              "      <td>0.696792</td>\n",
              "      <td>0.706314</td>\n",
              "      <td>0.705529</td>\n",
              "      <td>0.785900</td>\n",
              "      <td>0.754598</td>\n",
              "      <td>0.737232</td>\n",
              "      <td>0.764635</td>\n",
              "      <td>0.742151</td>\n",
              "      <td>0.743498</td>\n",
              "      <td>0.693093</td>\n",
              "      <td>0.723610</td>\n",
              "      <td>0.740081</td>\n",
              "      <td>0.703261</td>\n",
              "      <td>0.733857</td>\n",
              "      <td>0.734462</td>\n",
              "      <td>0.760828</td>\n",
              "      <td>0.709781</td>\n",
              "      <td>0.750877</td>\n",
              "      <td>0.738374</td>\n",
              "      <td>0.706462</td>\n",
              "      <td>0.769492</td>\n",
              "      <td>0.705494</td>\n",
              "      <td>0.738047</td>\n",
              "      <td>0.764293</td>\n",
              "      <td>0.757955</td>\n",
              "    </tr>\n",
              "    <tr>\n",
              "      <th>4</th>\n",
              "      <td>1</td>\n",
              "      <td>0.637616</td>\n",
              "      <td>0.585078</td>\n",
              "      <td>0.623133</td>\n",
              "      <td>0.629319</td>\n",
              "      <td>0.641032</td>\n",
              "      <td>0.644209</td>\n",
              "      <td>0.620274</td>\n",
              "      <td>0.629437</td>\n",
              "      <td>0.693167</td>\n",
              "      <td>0.629576</td>\n",
              "      <td>0.625348</td>\n",
              "      <td>0.659909</td>\n",
              "      <td>0.633923</td>\n",
              "      <td>0.655369</td>\n",
              "      <td>0.603374</td>\n",
              "      <td>0.649741</td>\n",
              "      <td>0.668071</td>\n",
              "      <td>0.686402</td>\n",
              "      <td>0.667116</td>\n",
              "      <td>0.668583</td>\n",
              "      <td>0.643545</td>\n",
              "      <td>0.656997</td>\n",
              "      <td>0.620273</td>\n",
              "      <td>0.648819</td>\n",
              "      <td>0.693993</td>\n",
              "      <td>0.632776</td>\n",
              "      <td>0.651215</td>\n",
              "      <td>0.669653</td>\n",
              "      <td>0.639081</td>\n",
              "      <td>0.609878</td>\n",
              "      <td>0.599140</td>\n",
              "      <td>0.618505</td>\n",
              "      <td>0.646240</td>\n",
              "      <td>0.599491</td>\n",
              "      <td>0.594672</td>\n",
              "      <td>0.612374</td>\n",
              "      <td>0.637781</td>\n",
              "      <td>0.591617</td>\n",
              "      <td>0.696962</td>\n",
              "      <td>...</td>\n",
              "      <td>0.609449</td>\n",
              "      <td>0.567151</td>\n",
              "      <td>0.542016</td>\n",
              "      <td>0.574557</td>\n",
              "      <td>0.513767</td>\n",
              "      <td>0.573303</td>\n",
              "      <td>0.568842</td>\n",
              "      <td>0.571414</td>\n",
              "      <td>0.573986</td>\n",
              "      <td>0.587916</td>\n",
              "      <td>0.584669</td>\n",
              "      <td>0.601582</td>\n",
              "      <td>0.552176</td>\n",
              "      <td>0.616807</td>\n",
              "      <td>0.691177</td>\n",
              "      <td>0.589914</td>\n",
              "      <td>0.616895</td>\n",
              "      <td>0.589657</td>\n",
              "      <td>0.586559</td>\n",
              "      <td>0.605256</td>\n",
              "      <td>0.632361</td>\n",
              "      <td>0.607122</td>\n",
              "      <td>0.613102</td>\n",
              "      <td>0.623748</td>\n",
              "      <td>0.617278</td>\n",
              "      <td>0.650209</td>\n",
              "      <td>0.626213</td>\n",
              "      <td>0.589304</td>\n",
              "      <td>0.637231</td>\n",
              "      <td>0.650188</td>\n",
              "      <td>0.619496</td>\n",
              "      <td>0.588804</td>\n",
              "      <td>0.622431</td>\n",
              "      <td>0.619396</td>\n",
              "      <td>0.637752</td>\n",
              "      <td>0.640945</td>\n",
              "      <td>0.647132</td>\n",
              "      <td>0.635257</td>\n",
              "      <td>0.621143</td>\n",
              "      <td>0.648951</td>\n",
              "    </tr>\n",
              "  </tbody>\n",
              "</table>\n",
              "<p>5 rows × 276 columns</p>\n",
              "</div>"
            ],
            "text/plain": [
              "   class  Unnamed: 1  Unnamed: 2  ...  Unnamed: 273  Unnamed: 274  Unnamed: 275\n",
              "0      3   -1.296736   -1.333738  ...      0.819276      0.816343      0.794338\n",
              "1      1    0.564214    0.545116  ...      0.571332      0.586189      0.590860\n",
              "2      3   -2.100779   -2.088201  ...      0.542945      0.543747      0.543874\n",
              "3      2    0.738442    0.728175  ...      0.738047      0.764293      0.757955\n",
              "4      1    0.637616    0.585078  ...      0.635257      0.621143      0.648951\n",
              "\n",
              "[5 rows x 276 columns]"
            ]
          },
          "metadata": {
            "tags": []
          },
          "execution_count": 157
        }
      ]
    },
    {
      "cell_type": "code",
      "metadata": {
        "colab": {
          "base_uri": "https://localhost:8080/"
        },
        "id": "a4IabaNOjQQM",
        "outputId": "6aaee192-46de-49ca-f462-92bc4a22af68"
      },
      "source": [
        "X_train = df.loc[:,\"Unnamed: 1\":\"Unnamed: 275\"].values[:,None,:]\n",
        "Y_train = df.loc[:,\"class\"]\n",
        "\n",
        "X_test = df_test.loc[:,\"Unnamed: 1\":\"Unnamed: 275\"].values[:,None,:]\n",
        "Y_test = df_test.loc[:,\"class\"]\n",
        "\n",
        "print(X_train.shape)\n",
        "print(X_test.shape)"
      ],
      "execution_count": 158,
      "outputs": [
        {
          "output_type": "stream",
          "text": [
            "(100, 1, 275)\n",
            "(100, 1, 275)\n"
          ],
          "name": "stdout"
        }
      ]
    },
    {
      "cell_type": "code",
      "metadata": {
        "colab": {
          "base_uri": "https://localhost:8080/",
          "height": 285
        },
        "id": "1DAc64Ivh_37",
        "outputId": "d892dcdf-75fb-486a-8e73-ef21fa587c61"
      },
      "source": [
        "from alphacsc import BatchCDL\n",
        "import matplotlib.pyplot as plt\n",
        "\n",
        "# Learn a dictionary with batch algorithm and rank1 constraints.\n",
        "cdl = BatchCDL(n_atoms, n_times_atom, rank1=False, n_iter=60, random_state=42, verbose = 0)\n",
        "# cdl.loss = \"dtw\" \n",
        "cdl.fit(X_train)\n",
        "\n",
        "# Display the learned atoms\n",
        "fig, axes = plt.subplots(n_atoms, 2, num=\"Dictionary\")\n",
        "for k in range(n_atoms):\n",
        "    axes[k, 0].plot(cdl.u_hat_[k])\n",
        "    # print(cdl.u_hat_[k].shape, cdl.u_hat_[k])\n",
        "    axes[k, 1].plot(cdl.v_hat_[k])\n",
        "\n",
        "axes[0, 0].set_title(\"Spatial map\")\n",
        "axes[0, 1].set_title(\"Temporal map\")\n",
        "for ax in axes.ravel():\n",
        "    ax.set_xticklabels([])\n",
        "    ax.set_yticklabels([])\n",
        "\n",
        "plt.show()"
      ],
      "execution_count": 159,
      "outputs": [
        {
          "output_type": "stream",
          "text": [
            "[BatchCDL] Converged after 41 iteration, (dz, du) = 0.000e+00, 4.366e-14\n"
          ],
          "name": "stdout"
        },
        {
          "output_type": "display_data",
          "data": {
            "image/png": "[encoded data removed]",
            "text/plain": [
              "<Figure size 432x288 with 10 Axes>"
            ]
          },
          "metadata": {
            "tags": [],
            "needs_background": "light"
          }
        }
      ]
    },
    {
      "cell_type": "markdown",
      "metadata": {
        "id": "fZWmkL2SmezP"
      },
      "source": [
        "# Plot Utils"
      ]
    },
    {
      "cell_type": "code",
      "metadata": {
        "id": "TbAc2yigmeEi"
      },
      "source": [
        "import plotly.graph_objects as graph\n",
        "def plot(all_history:list, title:str, log = False):\n",
        "    \"\"\"\n",
        "    input:\n",
        "        all_history: list of dicts to plot\n",
        "    ret:\n",
        "        None: show plotly fig\n",
        "    \"\"\"\n",
        "    fig = graph.Figure(layout = graph.Layout(title=graph.layout.Title(text=title))) \n",
        "    for i in range(len(all_history)):\n",
        "        fig.add_trace(graph.Scatter(x = all_history[i][\"x\"], \n",
        "                                    y = all_history[i][\"y\"],\n",
        "                                    name = all_history[i][\"legend\"])) \n",
        "    if log: fig.update_xaxes(type=\"log\")\n",
        "    fig.show()"
      ],
      "execution_count": 160,
      "outputs": []
    },
    {
      "cell_type": "markdown",
      "metadata": {
        "id": "Gt20Txw1_0UM"
      },
      "source": [
        "# vizualize dictionary"
      ]
    },
    {
      "cell_type": "code",
      "metadata": {
        "colab": {
          "base_uri": "https://localhost:8080/",
          "height": 265
        },
        "id": "8gyMAfVFiIug",
        "outputId": "b14ec7bf-f12f-4bcb-f592-09a4499b7856"
      },
      "source": [
        "import matplotlib.pyplot as plt\n",
        "\n",
        "plt.figure()\n",
        "plt.plot(cdl.v_hat_.T, 'b', label=r'$\\alpha$CSC')\n",
        "plt.show()\n",
        "\n"
      ],
      "execution_count": 161,
      "outputs": [
        {
          "output_type": "display_data",
          "data": {
            "image/png": "[encoded data removed]",
            "text/plain": [
              "<Figure size 432x288 with 1 Axes>"
            ]
          },
          "metadata": {
            "tags": [],
            "needs_background": "light"
          }
        }
      ]
    },
    {
      "cell_type": "markdown",
      "metadata": {
        "id": "EZlXl7AZm0kD"
      },
      "source": [
        "# Obtain dense sparse codes as data "
      ]
    },
    {
      "cell_type": "code",
      "metadata": {
        "id": "MO1qCoWflvls"
      },
      "source": [
        "\n",
        "import numpy as np\n",
        "\n",
        "test_sparse_code = cdl.transform(X_test)\n",
        "train_sparse_code = cdl.transform(X_train)\n",
        "\n",
        "(a,b,c) = test_sparse_code.shape\n",
        "X_test_flat = test_sparse_code.reshape((a, b*c))\n",
        "\n",
        "(a,b,c) = train_sparse_code.shape\n",
        "X_train_flat = train_sparse_code.reshape((a, b*c))\n",
        "\n"
      ],
      "execution_count": 162,
      "outputs": []
    },
    {
      "cell_type": "markdown",
      "metadata": {
        "id": "M0rrMz4eLUy0"
      },
      "source": [
        "# testing sklearn library"
      ]
    },
    {
      "cell_type": "code",
      "metadata": {
        "id": "GKYGu9TqLX16"
      },
      "source": [
        "from sklearn import datasets\n",
        "from sklearn.decomposition import PCA\n",
        "from sklearn.linear_model import LogisticRegression\n",
        "from sklearn.pipeline import Pipeline\n",
        "from sklearn.model_selection import GridSearchCV\n",
        "\n",
        "from sklearn import datasets\n",
        "from sklearn.decomposition import PCA\n",
        "from sklearn.linear_model import LogisticRegression\n",
        "from sklearn.pipeline import Pipeline\n",
        "from sklearn.model_selection import GridSearchCV\n",
        "\n",
        "\n",
        "pca = PCA()\n",
        "# set the tolerance to a large value to make the example faster\n",
        "logistic = LogisticRegression(random_state = 42, max_iter=20000)\n",
        "pipe = Pipeline(steps=[('pca', pca), ('logistic', logistic)])\n",
        "# pipe = Pipeline(steps=[('logistic', logistic)])\n",
        "\n",
        "# Parameters of pipelines can be set using ‘__’ separated parameter names:\n",
        "param_grid = {\n",
        "    'pca__n_components': [5, 15, 30, 45, 64],\n",
        "    'logistic__C': np.logspace(-4, 4, 4),\n",
        "    'logistic__tol': [0.3, 0.35, 0.4, 0.45, 0.6,.71]}\n",
        "search = GridSearchCV(pipe, param_grid, n_jobs=-1)\n"
      ],
      "execution_count": 181,
      "outputs": []
    },
    {
      "cell_type": "markdown",
      "metadata": {
        "id": "MVYPBJGH4rtx"
      },
      "source": [
        "# svm\n"
      ]
    },
    {
      "cell_type": "code",
      "metadata": {
        "id": "izHK3omg4rTi"
      },
      "source": [
        "import numpy as np\n",
        "from sklearn.pipeline import make_pipeline\n",
        "from sklearn.preprocessing import StandardScaler\n",
        "from sklearn.svm import SVC\n",
        "\n",
        "pca = PCA()\n",
        "# set the tolerance to a large value to make the example faster\n",
        "svc = SVC(random_state = 42, gamma=\"auto\", class_weight=\"balanced\")\n",
        "pipe = Pipeline(steps=[('pca', pca), ('svm', svc)])\n",
        "# pipe = Pipeline(steps=[('logistic', logistic)])\n",
        "\n",
        "# Parameters of pipelines can be set using ‘__’ separated parameter names:\n",
        "param_grid = {\n",
        "    'pca__n_components': [5, 15, 30, 45, 64],\n",
        "    'svm__C': np.logspace(-4, 4, 6),\n",
        "    'svm__kernel': [\"rbf\", \"poly\", \"rbf\", \"sigmoid\"]}\n",
        "search = GridSearchCV(pipe, param_grid, n_jobs=-1)\n",
        "\n"
      ],
      "execution_count": 186,
      "outputs": []
    },
    {
      "cell_type": "markdown",
      "metadata": {
        "id": "SMByGawDMW56"
      },
      "source": [
        "# Evaluate"
      ]
    },
    {
      "cell_type": "code",
      "metadata": {
        "colab": {
          "base_uri": "https://localhost:8080/"
        },
        "id": "LlzzIKCn9EQX",
        "outputId": "d35d7264-dab4-4c14-fca9-827fed764bdc"
      },
      "source": [
        "from sklearn.metrics import classification_report\n",
        "\n",
        "\n",
        "print(X_train_flat.shape)\n",
        "search.fit(X_train_flat, Y_train)\n",
        "print(\"Best parameter (CV score=%0.3f):\" % search.best_score_)\n",
        "print(search.best_params_)\n",
        "\n",
        "\n",
        "Y_pred = search.predict(X_test_flat)\n",
        "print(Y_test.values)\n",
        "print(Y_pred)\n",
        "\n",
        "print(classification_report(Y_test.values, Y_pred))\n"
      ],
      "execution_count": 187,
      "outputs": [
        {
          "output_type": "stream",
          "text": [
            "(100, 980)\n",
            "Best parameter (CV score=0.790):\n",
            "{'pca__n_components': 5, 'svm__C': 10000.0, 'svm__kernel': 'rbf'}\n",
            "[3 1 3 2 1 3 2 2 2 4 3 2 3 3 3 4 2 3 1 1 3 4 4 1 2 3 3 4 3 4 3 2 2 2 1 4 3\n",
            " 1 2 4 3 4 2 2 4 2 1 4 4 3 2 4 2 1 3 1 3 1 3 3 3 1 3 2 4 1 2 1 2 1 1 2 3 4\n",
            " 1 2 2 4 3 2 2 1 4 1 2 2 4 1 1 1 3 1 1 2 3 3 2 2 3 4]\n",
            "[4 1 4 1 1 4 1 2 1 4 4 1 3 3 4 4 1 3 1 1 4 4 4 1 2 4 4 4 4 4 3 2 2 2 1 4 4\n",
            " 1 1 4 4 4 2 2 4 1 1 4 4 3 2 3 1 1 4 1 4 1 4 4 4 1 3 2 4 1 2 1 2 1 1 1 3 4\n",
            " 2 1 2 4 4 1 2 1 4 1 2 2 3 1 1 1 3 2 1 2 3 4 2 2 4 3]\n",
            "              precision    recall  f1-score   support\n",
            "\n",
            "           1       0.67      0.92      0.77        24\n",
            "           2       0.90      0.62      0.73        29\n",
            "           3       0.75      0.32      0.45        28\n",
            "           4       0.46      0.84      0.59        19\n",
            "\n",
            "    accuracy                           0.65       100\n",
            "   macro avg       0.69      0.68      0.64       100\n",
            "weighted avg       0.72      0.65      0.64       100\n",
            "\n"
          ],
          "name": "stdout"
        }
      ]
    },
    {
      "cell_type": "markdown",
      "metadata": {
        "id": "4X0DKANK_ODp"
      },
      "source": [
        "# Recunstruct"
      ]
    },
    {
      "cell_type": "code",
      "metadata": {
        "colab": {
          "base_uri": "https://localhost:8080/",
          "height": 441
        },
        "id": "nog16Vi6-X4N",
        "outputId": "a4a0e8a1-c27f-46d4-b080-71bed9135579"
      },
      "source": [
        "\n",
        "# Plot the PCA spectrum\n",
        "pca.fit(X_train_flat)\n",
        "\n",
        "fig, (ax0, ax1) = plt.subplots(nrows=2, sharex=True, figsize=(6, 6))\n",
        "ax0.plot(np.arange(1, pca.n_components_ + 1),\n",
        "         pca.explained_variance_ratio_, '+', linewidth=2)\n",
        "ax0.set_ylabel('PCA explained variance ratio')\n",
        "\n",
        "ax0.axvline(search.best_estimator_.named_steps['pca'].n_components,\n",
        "            linestyle=':', label='n_components chosen')\n",
        "ax0.legend(prop=dict(size=12))\n",
        "\n",
        "# For each number of components, find the best classifier results\n",
        "results = pd.DataFrame(search.cv_results_)\n",
        "components_col = 'param_pca__n_components'\n",
        "best_clfs = results.groupby(components_col).apply(\n",
        "    lambda g: g.nlargest(1, 'mean_test_score'))\n",
        "\n",
        "best_clfs.plot(x=components_col, y='mean_test_score', yerr='std_test_score',\n",
        "               legend=False, ax=ax1)\n",
        "ax1.set_ylabel('Classification accuracy (val)')\n",
        "ax1.set_xlabel('n_components')\n",
        "\n",
        "plt.xlim(-1, 70)\n",
        "\n",
        "plt.tight_layout()\n",
        "plt.show()"
      ],
      "execution_count": 166,
      "outputs": [
        {
          "output_type": "display_data",
          "data": {
            "image/png": "[encoded data removed]",
            "text/plain": [
              "<Figure size 432x432 with 2 Axes>"
            ]
          },
          "metadata": {
            "tags": [],
            "needs_background": "light"
          }
        }
      ]
    },
    {
      "cell_type": "code",
      "metadata": {
        "colab": {
          "base_uri": "https://localhost:8080/",
          "height": 627
        },
        "id": "erAySwvC-lv2",
        "outputId": "450b7531-6d3d-45a2-ea17-05318363a603"
      },
      "source": [
        "\n",
        "sparse_code = cdl.transform(X_test[0,:,:][None])\n",
        "print(\"\\nsparse_code.shape\", sparse_code.shape)\n",
        "# np.savetxt(\"foo.csv\", sparse_code[0,:,:], delimiter=\",\")\n",
        "\n",
        "X_test_reconstruct = cdl.transform_inverse(sparse_code)\n",
        "\n",
        "print(\"\\nX_test.shape: {} \\nX_test_reconstruct.shape : {}\".format(X_test.shape, X_test_reconstruct[0,0,:].shape))\n",
        "\n",
        "#perfect plot\n",
        "original_plot = {\"legend\": \"original\", \n",
        "                 \"x\": list(range(0,276)), \n",
        "                 \"y\": X_test[0,0,:]}\n",
        "                  \n",
        "reconstruct_plot = {\"legend\": \"reconstruct\", \n",
        "                    \"x\": list(range(0,276)),\n",
        "                    \"y\": X_test_reconstruct[0,0,:]}      \n",
        "\n",
        "plot([original_plot, reconstruct_plot], \"Signal Comparison\")      \n"
      ],
      "execution_count": 167,
      "outputs": [
        {
          "output_type": "stream",
          "text": [
            "\n",
            "sparse_code.shape (1, 5, 196)\n",
            "\n",
            "X_test.shape: (100, 1, 275) \n",
            "X_test_reconstruct.shape : (275,)\n"
          ],
          "name": "stdout"
        },
        {
          "output_type": "display_data",
          "data": {
            "text/html": [
              "<html>\n",
              "<head><meta charset=\"utf-8\" /></head>\n",
              "<body>\n",
              "    <div>\n",
              "            <script src=\"https://cdnjs.cloudflare.com/ajax/libs/mathjax/2.7.5/MathJax.js?config=TeX-AMS-MML_SVG\"></script><script type=\"text/javascript\">if (window.MathJax) {MathJax.Hub.Config({SVG: {font: \"STIX-Web\"}});}</script>\n",
              "                <script type=\"text/javascript\">window.PlotlyConfig = {MathJaxConfig: 'local'};</script>\n",
              "        <script src=\"https://cdn.plot.ly/plotly-latest.min.js\"></script>    \n",
              "            <div id=\"e796b07f-cef4-45cd-a6f2-2dec53adf6da\" class=\"plotly-graph-div\" style=\"height:525px; width:100%;\"></div>\n",
              "            <script type=\"text/javascript\">\n",
              "                \n",
              "                    window.PLOTLYENV=window.PLOTLYENV || {};\n",
              "                    \n",
              "                if (document.getElementById(\"e796b07f-cef4-45cd-a6f2-2dec53adf6da\")) {\n",
              "                    Plotly.newPlot(\n",
              "                        'e796b07f-cef4-45cd-a6f2-2dec53adf6da',\n",
              "                        [{\"name\": \"original\", \"type\": \"scatter\", \"x\": [0, 1, 2, 3, 4, 5, 6, 7, 8, 9, 10, 11, 12, 13, 14, 15, 16, 17, 18, 19, 20, 21, 22, 23, 24, 25, 26, 27, 28, 29, 30, 31, 32, 33, 34, 35, 36, 37, 38, 39, 40, 41, 42, 43, 44, 45, 46, 47, 48, 49, 50, 51, 52, 53, 54, 55, 56, 57, 58, 59, 60, 61, 62, 63, 64, 65, 66, 67, 68, 69, 70, 71, 72, 73, 74, 75, 76, 77, 78, 79, 80, 81, 82, 83, 84, 85, 86, 87, 88, 89, 90, 91, 92, 93, 94, 95, 96, 97, 98, 99, 100, 101, 102, 103, 104, 105, 106, 107, 108, 109, 110, 111, 112, 113, 114, 115, 116, 117, 118, 119, 120, 121, 122, 123, 124, 125, 126, 127, 128, 129, 130, 131, 132, 133, 134, 135, 136, 137, 138, 139, 140, 141, 142, 143, 144, 145, 146, 147, 148, 149, 150, 151, 152, 153, 154, 155, 156, 157, 158, 159, 160, 161, 162, 163, 164, 165, 166, 167, 168, 169, 170, 171, 172, 173, 174, 175, 176, 177, 178, 179, 180, 181, 182, 183, 184, 185, 186, 187, 188, 189, 190, 191, 192, 193, 194, 195, 196, 197, 198, 199, 200, 201, 202, 203, 204, 205, 206, 207, 208, 209, 210, 211, 212, 213, 214, 215, 216, 217, 218, 219, 220, 221, 222, 223, 224, 225, 226, 227, 228, 229, 230, 231, 232, 233, 234, 235, 236, 237, 238, 239, 240, 241, 242, 243, 244, 245, 246, 247, 248, 249, 250, 251, 252, 253, 254, 255, 256, 257, 258, 259, 260, 261, 262, 263, 264, 265, 266, 267, 268, 269, 270, 271, 272, 273, 274, 275], \"y\": [-1.2967358, -1.3337382, -1.3494959, -1.3185867, -1.307479, -1.2552024, -1.2731446, -1.2542866, -1.2989894, -1.2907729, -1.3029222, -1.300306, -1.3073516, -1.2974883, -1.283953, -1.3417791, -1.3219679, -1.2928554, -1.2956571, -1.2464495, -1.3543916, -1.3235271, -1.3086736, -1.2881467, -1.2771626, -1.3221296, -1.2694796, -1.2988174, -1.273018, -1.330083, -1.2408037, -1.3024356, -1.3640674, -1.292355, -1.2902237, -1.2907857, -1.320876, -1.3129339, -1.3216811, -1.2871637, -1.3198372, -1.3114867, -1.3122231, -1.2905983, -1.3171477, -1.2874889, -1.3186438, -1.299882, -1.3044735, -1.2948033, -1.3040439, -1.3069447, -1.2840316, -1.3085823, -1.293375, -1.3057471, -1.3374953, -1.2947067, -1.3279093, -1.3360214, -1.294133, -1.2947651, -1.3169188, -1.2837504, -1.3147326, -1.3146635, -1.3154057, -1.3337354, -1.3173321, -1.2848678, -1.2977069, -1.310546, -1.3066109, -1.3358504, -1.2860842, -1.2803267, -1.3206546, -1.2745161, -1.3093949, -1.2344305, -1.2677604, -1.3390095, -1.2950823, -1.2769976, -1.2744496, -1.2536196, -1.2327896, -1.2380282, -1.1788398, -1.2342229, -1.2480745, -1.2171076, -1.2017633, -1.1288856, -1.1049311, -1.077681, -1.0265534, -0.99518718, -0.94285223, -0.85523387, -0.78319772, -0.66071963, -0.64779136, -0.51247191, -0.38670898, -0.36520774, -0.26175498, -0.11380161, -0.015933703, 0.069011355, 0.17761958, 0.22553987, 0.28052336, 0.36179839, 0.44309893, 0.52439948, 0.53949637, 0.5843216, 0.64000731, 0.62861783, 0.68905748, 0.6941877, 0.73393101, 0.71619731, 0.74282739, 0.79894247, 0.75292171, 0.81999025, 0.78534059, 0.78563582, 0.80066477, 0.83620786, 0.78445976, 0.82046217, 0.82553281, 0.83742831, 0.81107852, 0.79239194, 0.81412894, 0.836032, 0.85164396, 0.85903636, 0.81462303, 0.80759103, 0.88097467, 0.81748489, 0.82157144, 0.81378496, 0.810566, 0.83967421, 0.8077574, 0.83419504, 0.81760659, 0.84511237, 0.86383628, 0.79125825, 0.83526124, 0.83685241, 0.83844354, 0.84903332, 0.8500012, 0.81709962, 0.83005045, 0.8757394, 0.8701409, 0.85488167, 0.82240869, 0.83421275, 0.91226591, 0.8688406, 0.8254153, 0.85917247, 0.81272364, 0.82140281, 0.84762152, 0.82643665, 0.8173741, 0.85742365, 0.80322383, 0.84133327, 0.82177364, 0.82077767, 0.82379992, 0.80075751, 0.87713903, 0.84490318, 0.84950929, 0.83500891, 0.82050854, 0.85489158, 0.82808359, 0.8038175, 0.80501363, 0.83786104, 0.84865748, 0.8722621, 0.86352131, 0.84517525, 0.84790641, 0.86490234, 0.83284883, 0.8492222, 0.82432911, 0.80344324, 0.82082599, 0.88741312, 0.97144255, 1.0244146, 1.1646646, 1.2817617, 1.2782001, 1.2669748, 1.1743494, 0.99301931, 0.87904844, 0.8704001, 0.72604243, 0.65090107, 0.5808432, 0.51078533, 0.46475209, 0.41871887, 0.4105488, 0.37687038, 0.34319199, 0.520405, 0.62664479, 0.7148719, 0.73577691, 0.80718612, 0.83902608, 0.84613707, 0.86272438, 0.7966524, 0.78722214, 0.86846861, 0.79170589, 0.84827843, 0.81496301, 0.84420048, 0.80467576, 0.83057854, 0.81170588, 0.84817769, 0.88796261, 0.88508665, 0.80436971, 0.81312667, 0.78325255, 0.84774964, 0.85781244, 0.83387043, 0.82076106, 0.87062703, 0.78788187, 0.84288179, 0.7956596, 0.82324334, 0.81950535, 0.79746731, 0.81930616, 0.82564625, 0.81226188, 0.84660216, 0.83765531, 0.8175896, 0.85130333, 0.78261506, 0.80194467, 0.82127428, 0.81020651, 0.82220895, 0.81927587, 0.81634281, 0.79433788]}, {\"name\": \"reconstruct\", \"type\": \"scatter\", \"x\": [0, 1, 2, 3, 4, 5, 6, 7, 8, 9, 10, 11, 12, 13, 14, 15, 16, 17, 18, 19, 20, 21, 22, 23, 24, 25, 26, 27, 28, 29, 30, 31, 32, 33, 34, 35, 36, 37, 38, 39, 40, 41, 42, 43, 44, 45, 46, 47, 48, 49, 50, 51, 52, 53, 54, 55, 56, 57, 58, 59, 60, 61, 62, 63, 64, 65, 66, 67, 68, 69, 70, 71, 72, 73, 74, 75, 76, 77, 78, 79, 80, 81, 82, 83, 84, 85, 86, 87, 88, 89, 90, 91, 92, 93, 94, 95, 96, 97, 98, 99, 100, 101, 102, 103, 104, 105, 106, 107, 108, 109, 110, 111, 112, 113, 114, 115, 116, 117, 118, 119, 120, 121, 122, 123, 124, 125, 126, 127, 128, 129, 130, 131, 132, 133, 134, 135, 136, 137, 138, 139, 140, 141, 142, 143, 144, 145, 146, 147, 148, 149, 150, 151, 152, 153, 154, 155, 156, 157, 158, 159, 160, 161, 162, 163, 164, 165, 166, 167, 168, 169, 170, 171, 172, 173, 174, 175, 176, 177, 178, 179, 180, 181, 182, 183, 184, 185, 186, 187, 188, 189, 190, 191, 192, 193, 194, 195, 196, 197, 198, 199, 200, 201, 202, 203, 204, 205, 206, 207, 208, 209, 210, 211, 212, 213, 214, 215, 216, 217, 218, 219, 220, 221, 222, 223, 224, 225, 226, 227, 228, 229, 230, 231, 232, 233, 234, 235, 236, 237, 238, 239, 240, 241, 242, 243, 244, 245, 246, 247, 248, 249, 250, 251, 252, 253, 254, 255, 256, 257, 258, 259, 260, 261, 262, 263, 264, 265, 266, 267, 268, 269, 270, 271, 272, 273, 274, 275], \"y\": [-0.8901918141727424, -1.5789951573461576, -1.343847850334508, -1.2319331834826242, -1.1881578373788908, -1.1485818594262711, -1.235634115271701, -1.171706873295273, -1.2640345201011016, -1.2141479283191214, -1.2058253817569193, -1.2451789062911456, -1.2135906168489188, -1.189178676751992, -1.175313169878005, -1.1968185985238655, -1.1846159854557543, -1.165467469157372, -1.1506575912711985, -1.1432321724147452, -1.3836432812030597, -1.3322126231518878, -1.2874076244313042, -1.2548031788543335, -1.2199437138316496, -1.1951000160947152, -1.1787632875121017, -1.3782877190179719, -1.3296832343091811, -1.295706615195356, -1.2672577438765211, -1.2382974092800496, -1.2735481312794508, -1.2454112536826534, -1.2231839879953996, -1.2107412234156427, -1.2388161364383352, -1.2311274855029901, -1.2566027583341335, -1.2360785872144573, -1.2485973033170905, -1.224392917436114, -1.2092150471034417, -1.1888358114565536, -1.4626368685447324, -1.4038231134527284, -1.350292912244111, -1.3067284836689286, -1.2973208136863636, -1.258095473710194, -1.3090864755686462, -1.2761638447849062, -1.2462705102217866, -1.2658510280238233, -1.2697280070772086, -1.2377003583278852, -1.3555555072426693, -1.2961477068092877, -1.2752349370364275, -1.3118083009380435, -1.250277996926013, -1.2354970556193294, -1.2875549745573283, -1.2413671888836784, -1.2049456412958741, -1.160343933393255, -1.1195746931129957, -1.4196087685822656, -1.3862561147139711, -1.3320585170795083, -1.2903645107723256, -1.249974964461085, -1.249319312763, -1.2483775290952557, -1.214383443770743, -1.227757053440919, -1.2139027155345194, -1.2150057851480125, -1.2359150650161883, -1.2349201937298202, -1.169888443421585, -1.1199138255769647, -1.1131085564444394, -1.1002583699399393, -1.0996597876919019, -1.103231097850939, -1.0964204415150445, -1.1076064376462142, -1.092613789444949, -1.1003746851827207, -1.08852211852814, -1.074033392162982, -1.0640329263581099, -1.0281702231359489, -1.0117293095950008, -0.9751162306177182, -0.9369720793540077, -0.8953678967282521, -0.8502221602329016, -0.8001932659814893, -0.7258240497273056, -0.666735064602957, -0.6015658174081168, -0.5020882641893303, -0.43044027789868894, -0.32160109407248305, -0.1666183952288192, -0.06080372121203586, 0.01087710120220789, 0.07902046369094445, 0.13631240881341883, 0.19747452543745223, 0.24680956023850253, 0.30029450670472135, 0.3669037237485899, 0.5941574192140149, 0.6216060999377943, 0.6462353413212931, 0.6754101892569333, 0.6855334963300388, 0.7053016303924533, 0.7154827489415565, 0.7183962469702374, 0.7179033211539277, 0.7384813662899665, 0.7300128655532407, 0.7180777816202714, 0.7070631182644853, 0.6967917937383368, 0.6983504346188647, 0.6966184542906474, 0.6897352991430792, 0.6857130358284762, 0.689163757327628, 0.9229898365044643, 0.8962650195092647, 0.903315995600782, 0.8995391040314831, 0.8813339309418442, 0.8869791390519459, 0.8971773331321594, 0.9110567016413107, 0.8974714524046293, 0.9202733574718175, 0.9277043609234884, 0.9628761785307399, 1.0000835358515472, 0.6409434618738639, 0.7063499813936245, 0.7130352982961781, 0.7291868085144875, 0.7498115473151759, 0.7115725065046247, 0.6927521632462273, 0.6964490101172913, 0.6483624632265534, 0.6600527465936, 0.6612917820827665, 0.6576543915367702, 0.6595356797157422, 0.6779780437891606, 0.6797038621502843, 0.6965651328859409, 0.6995643940881744, 0.7099380731775303, 0.7058737326085304, 0.7096514542726913, 0.7066021848039183, 0.7037016226373165, 0.7070139095703827, 0.6951885017164453, 0.6940089262761296, 0.6743251752084694, 0.6770100870134874, 0.7054224369947864, 0.717776602341573, 0.747359076059275, 0.7554387527212856, 0.7681071756038961, 0.780342399973201, 0.7907807351822141, 0.8066993741023307, 0.8147662611070536, 0.7935758991647284, 0.833181103120673, 0.8507580379264693, 0.8063879343857521, 0.815685793631932, 0.8199391101933389, 0.7989380130530892, 0.8038580760000562, 0.7294822382043114, 0.7502872433650518, 0.7660728228498546, 0.7703314206009817, 0.9881320629416491, 0.9559733762900106, 0.9439392921122892, 0.9423398996906259, 0.9368156439536305, 0.9350028714023576, 0.9512130967110497, 0.9506103685876371, 0.9497237591169349, 0.95800164019502, 0.9532317089128648, 0.9612425046626552, 0.9803401689289888, 1.0038732160267896, 1.006859771437301, 1.0406539448731598, 1.0628666387680736, 1.059743659065853, 1.0746418573622687, 0.6210334691574623, 0.6455200076888097, 0.6434613623107613, 0.6486623789471656, 0.6615266897990126, 0.6219293033072787, 0.5931149250634874, 0.5964214298219819, 0.6032976067021614, 0.6059457028574804, 0.61476747601327, 0.631427881793278, 0.6406839911124025, 0.6387598581753198, 0.6660158922255904, 0.6645361935186307, 0.6700358918709143, 0.6764546975956217, 0.6852639665052582, 0.6575456056436101, 0.6510718004412392, 0.6546125460466059, 0.6743205763288617, 0.7288583822747919, 0.6838993915051709, 0.6940958075029132, 0.7068607884779363, 0.7148244371116094, 0.6964294471108429, 0.6994346653055048, 0.7112436649795384, 0.704398217759817, 0.7104801960376057, 0.702735419395003, 0.6969182437831385, 0.700393000656469, 0.6935125859408193, 0.6972905915255811, 0.701724569008598, 0.7204990677759361, 0.6743912521132912, 0.6860046701129522, 0.688393650586064, 0.6997776875215285, 0.7076034517359876, 0.7229654401370812, 0.7337448679493886, 0.746645682727149, 0.7528371524790167, 0.7627994960954597, 0.7502458455465334, 0.7530097824588472, 0.7744165553670052, 0.8056146305943268, 0.8197116449476484, 0.8621535310578856, 0.692056682399777, 0.729213037777629, 0.7847851681257426, 0.8126883890933603, 0.8891322297307054]}],\n",
              "                        {\"template\": {\"data\": {\"bar\": [{\"error_x\": {\"color\": \"#2a3f5f\"}, \"error_y\": {\"color\": \"#2a3f5f\"}, \"marker\": {\"line\": {\"color\": \"#E5ECF6\", \"width\": 0.5}}, \"type\": \"bar\"}], \"barpolar\": [{\"marker\": {\"line\": {\"color\": \"#E5ECF6\", \"width\": 0.5}}, \"type\": \"barpolar\"}], \"carpet\": [{\"aaxis\": {\"endlinecolor\": \"#2a3f5f\", \"gridcolor\": \"white\", \"linecolor\": \"white\", \"minorgridcolor\": \"white\", \"startlinecolor\": \"#2a3f5f\"}, \"baxis\": {\"endlinecolor\": \"#2a3f5f\", \"gridcolor\": \"white\", \"linecolor\": \"white\", \"minorgridcolor\": \"white\", \"startlinecolor\": \"#2a3f5f\"}, \"type\": \"carpet\"}], \"choropleth\": [{\"colorbar\": {\"outlinewidth\": 0, \"ticks\": \"\"}, \"type\": \"choropleth\"}], \"contour\": [{\"colorbar\": {\"outlinewidth\": 0, \"ticks\": \"\"}, \"colorscale\": [[0.0, \"#0d0887\"], [0.1111111111111111, \"#46039f\"], [0.2222222222222222, \"#7201a8\"], [0.3333333333333333, \"#9c179e\"], [0.4444444444444444, \"#bd3786\"], [0.5555555555555556, \"#d8576b\"], [0.6666666666666666, \"#ed7953\"], [0.7777777777777778, \"#fb9f3a\"], [0.8888888888888888, \"#fdca26\"], [1.0, \"#f0f921\"]], \"type\": \"contour\"}], \"contourcarpet\": [{\"colorbar\": {\"outlinewidth\": 0, \"ticks\": \"\"}, \"type\": \"contourcarpet\"}], \"heatmap\": [{\"colorbar\": {\"outlinewidth\": 0, \"ticks\": \"\"}, \"colorscale\": [[0.0, \"#0d0887\"], [0.1111111111111111, \"#46039f\"], [0.2222222222222222, \"#7201a8\"], [0.3333333333333333, \"#9c179e\"], [0.4444444444444444, \"#bd3786\"], [0.5555555555555556, \"#d8576b\"], [0.6666666666666666, \"#ed7953\"], [0.7777777777777778, \"#fb9f3a\"], [0.8888888888888888, \"#fdca26\"], [1.0, \"#f0f921\"]], \"type\": \"heatmap\"}], \"heatmapgl\": [{\"colorbar\": {\"outlinewidth\": 0, \"ticks\": \"\"}, \"colorscale\": [[0.0, \"#0d0887\"], [0.1111111111111111, \"#46039f\"], [0.2222222222222222, \"#7201a8\"], [0.3333333333333333, \"#9c179e\"], [0.4444444444444444, \"#bd3786\"], [0.5555555555555556, \"#d8576b\"], [0.6666666666666666, \"#ed7953\"], [0.7777777777777778, \"#fb9f3a\"], [0.8888888888888888, \"#fdca26\"], [1.0, \"#f0f921\"]], \"type\": \"heatmapgl\"}], \"histogram\": [{\"marker\": {\"colorbar\": {\"outlinewidth\": 0, \"ticks\": \"\"}}, \"type\": \"histogram\"}], \"histogram2d\": [{\"colorbar\": {\"outlinewidth\": 0, \"ticks\": \"\"}, \"colorscale\": [[0.0, \"#0d0887\"], [0.1111111111111111, \"#46039f\"], [0.2222222222222222, \"#7201a8\"], [0.3333333333333333, \"#9c179e\"], [0.4444444444444444, \"#bd3786\"], [0.5555555555555556, \"#d8576b\"], [0.6666666666666666, \"#ed7953\"], [0.7777777777777778, \"#fb9f3a\"], [0.8888888888888888, \"#fdca26\"], [1.0, \"#f0f921\"]], \"type\": \"histogram2d\"}], \"histogram2dcontour\": [{\"colorbar\": {\"outlinewidth\": 0, \"ticks\": \"\"}, \"colorscale\": [[0.0, \"#0d0887\"], [0.1111111111111111, \"#46039f\"], [0.2222222222222222, \"#7201a8\"], [0.3333333333333333, \"#9c179e\"], [0.4444444444444444, \"#bd3786\"], [0.5555555555555556, \"#d8576b\"], [0.6666666666666666, \"#ed7953\"], [0.7777777777777778, \"#fb9f3a\"], [0.8888888888888888, \"#fdca26\"], [1.0, \"#f0f921\"]], \"type\": \"histogram2dcontour\"}], \"mesh3d\": [{\"colorbar\": {\"outlinewidth\": 0, \"ticks\": \"\"}, \"type\": \"mesh3d\"}], \"parcoords\": [{\"line\": {\"colorbar\": {\"outlinewidth\": 0, \"ticks\": \"\"}}, \"type\": \"parcoords\"}], \"pie\": [{\"automargin\": true, \"type\": \"pie\"}], \"scatter\": [{\"marker\": {\"colorbar\": {\"outlinewidth\": 0, \"ticks\": \"\"}}, \"type\": \"scatter\"}], \"scatter3d\": [{\"line\": {\"colorbar\": {\"outlinewidth\": 0, \"ticks\": \"\"}}, \"marker\": {\"colorbar\": {\"outlinewidth\": 0, \"ticks\": \"\"}}, \"type\": \"scatter3d\"}], \"scattercarpet\": [{\"marker\": {\"colorbar\": {\"outlinewidth\": 0, \"ticks\": \"\"}}, \"type\": \"scattercarpet\"}], \"scattergeo\": [{\"marker\": {\"colorbar\": {\"outlinewidth\": 0, \"ticks\": \"\"}}, \"type\": \"scattergeo\"}], \"scattergl\": [{\"marker\": {\"colorbar\": {\"outlinewidth\": 0, \"ticks\": \"\"}}, \"type\": \"scattergl\"}], \"scattermapbox\": [{\"marker\": {\"colorbar\": {\"outlinewidth\": 0, \"ticks\": \"\"}}, \"type\": \"scattermapbox\"}], \"scatterpolar\": [{\"marker\": {\"colorbar\": {\"outlinewidth\": 0, \"ticks\": \"\"}}, \"type\": \"scatterpolar\"}], \"scatterpolargl\": [{\"marker\": {\"colorbar\": {\"outlinewidth\": 0, \"ticks\": \"\"}}, \"type\": \"scatterpolargl\"}], \"scatterternary\": [{\"marker\": {\"colorbar\": {\"outlinewidth\": 0, \"ticks\": \"\"}}, \"type\": \"scatterternary\"}], \"surface\": [{\"colorbar\": {\"outlinewidth\": 0, \"ticks\": \"\"}, \"colorscale\": [[0.0, \"#0d0887\"], [0.1111111111111111, \"#46039f\"], [0.2222222222222222, \"#7201a8\"], [0.3333333333333333, \"#9c179e\"], [0.4444444444444444, \"#bd3786\"], [0.5555555555555556, \"#d8576b\"], [0.6666666666666666, \"#ed7953\"], [0.7777777777777778, \"#fb9f3a\"], [0.8888888888888888, \"#fdca26\"], [1.0, \"#f0f921\"]], \"type\": \"surface\"}], \"table\": [{\"cells\": {\"fill\": {\"color\": \"#EBF0F8\"}, \"line\": {\"color\": \"white\"}}, \"header\": {\"fill\": {\"color\": \"#C8D4E3\"}, \"line\": {\"color\": \"white\"}}, \"type\": \"table\"}]}, \"layout\": {\"annotationdefaults\": {\"arrowcolor\": \"#2a3f5f\", \"arrowhead\": 0, \"arrowwidth\": 1}, \"coloraxis\": {\"colorbar\": {\"outlinewidth\": 0, \"ticks\": \"\"}}, \"colorscale\": {\"diverging\": [[0, \"#8e0152\"], [0.1, \"#c51b7d\"], [0.2, \"#de77ae\"], [0.3, \"#f1b6da\"], [0.4, \"#fde0ef\"], [0.5, \"#f7f7f7\"], [0.6, \"#e6f5d0\"], [0.7, \"#b8e186\"], [0.8, \"#7fbc41\"], [0.9, \"#4d9221\"], [1, \"#276419\"]], \"sequential\": [[0.0, \"#0d0887\"], [0.1111111111111111, \"#46039f\"], [0.2222222222222222, \"#7201a8\"], [0.3333333333333333, \"#9c179e\"], [0.4444444444444444, \"#bd3786\"], [0.5555555555555556, \"#d8576b\"], [0.6666666666666666, \"#ed7953\"], [0.7777777777777778, \"#fb9f3a\"], [0.8888888888888888, \"#fdca26\"], [1.0, \"#f0f921\"]], \"sequentialminus\": [[0.0, \"#0d0887\"], [0.1111111111111111, \"#46039f\"], [0.2222222222222222, \"#7201a8\"], [0.3333333333333333, \"#9c179e\"], [0.4444444444444444, \"#bd3786\"], [0.5555555555555556, \"#d8576b\"], [0.6666666666666666, \"#ed7953\"], [0.7777777777777778, \"#fb9f3a\"], [0.8888888888888888, \"#fdca26\"], [1.0, \"#f0f921\"]]}, \"colorway\": [\"#636efa\", \"#EF553B\", \"#00cc96\", \"#ab63fa\", \"#FFA15A\", \"#19d3f3\", \"#FF6692\", \"#B6E880\", \"#FF97FF\", \"#FECB52\"], \"font\": {\"color\": \"#2a3f5f\"}, \"geo\": {\"bgcolor\": \"white\", \"lakecolor\": \"white\", \"landcolor\": \"#E5ECF6\", \"showlakes\": true, \"showland\": true, \"subunitcolor\": \"white\"}, \"hoverlabel\": {\"align\": \"left\"}, \"hovermode\": \"closest\", \"mapbox\": {\"style\": \"light\"}, \"paper_bgcolor\": \"white\", \"plot_bgcolor\": \"#E5ECF6\", \"polar\": {\"angularaxis\": {\"gridcolor\": \"white\", \"linecolor\": \"white\", \"ticks\": \"\"}, \"bgcolor\": \"#E5ECF6\", \"radialaxis\": {\"gridcolor\": \"white\", \"linecolor\": \"white\", \"ticks\": \"\"}}, \"scene\": {\"xaxis\": {\"backgroundcolor\": \"#E5ECF6\", \"gridcolor\": \"white\", \"gridwidth\": 2, \"linecolor\": \"white\", \"showbackground\": true, \"ticks\": \"\", \"zerolinecolor\": \"white\"}, \"yaxis\": {\"backgroundcolor\": \"#E5ECF6\", \"gridcolor\": \"white\", \"gridwidth\": 2, \"linecolor\": \"white\", \"showbackground\": true, \"ticks\": \"\", \"zerolinecolor\": \"white\"}, \"zaxis\": {\"backgroundcolor\": \"#E5ECF6\", \"gridcolor\": \"white\", \"gridwidth\": 2, \"linecolor\": \"white\", \"showbackground\": true, \"ticks\": \"\", \"zerolinecolor\": \"white\"}}, \"shapedefaults\": {\"line\": {\"color\": \"#2a3f5f\"}}, \"ternary\": {\"aaxis\": {\"gridcolor\": \"white\", \"linecolor\": \"white\", \"ticks\": \"\"}, \"baxis\": {\"gridcolor\": \"white\", \"linecolor\": \"white\", \"ticks\": \"\"}, \"bgcolor\": \"#E5ECF6\", \"caxis\": {\"gridcolor\": \"white\", \"linecolor\": \"white\", \"ticks\": \"\"}}, \"title\": {\"x\": 0.05}, \"xaxis\": {\"automargin\": true, \"gridcolor\": \"white\", \"linecolor\": \"white\", \"ticks\": \"\", \"title\": {\"standoff\": 15}, \"zerolinecolor\": \"white\", \"zerolinewidth\": 2}, \"yaxis\": {\"automargin\": true, \"gridcolor\": \"white\", \"linecolor\": \"white\", \"ticks\": \"\", \"title\": {\"standoff\": 15}, \"zerolinecolor\": \"white\", \"zerolinewidth\": 2}}}, \"title\": {\"text\": \"Signal Comparison\"}},\n",
              "                        {\"responsive\": true}\n",
              "                    ).then(function(){\n",
              "                            \n",
              "var gd = document.getElementById('e796b07f-cef4-45cd-a6f2-2dec53adf6da');\n",
              "var x = new MutationObserver(function (mutations, observer) {{\n",
              "        var display = window.getComputedStyle(gd).display;\n",
              "        if (!display || display === 'none') {{\n",
              "            console.log([gd, 'removed!']);\n",
              "            Plotly.purge(gd);\n",
              "            observer.disconnect();\n",
              "        }}\n",
              "}});\n",
              "\n",
              "// Listen for the removal of the full notebook cells\n",
              "var notebookContainer = gd.closest('#notebook-container');\n",
              "if (notebookContainer) {{\n",
              "    x.observe(notebookContainer, {childList: true});\n",
              "}}\n",
              "\n",
              "// Listen for the clearing of the current output cell\n",
              "var outputEl = gd.closest('.output');\n",
              "if (outputEl) {{\n",
              "    x.observe(outputEl, {childList: true});\n",
              "}}\n",
              "\n",
              "                        })\n",
              "                };\n",
              "                \n",
              "            </script>\n",
              "        </div>\n",
              "</body>\n",
              "</html>"
            ]
          },
          "metadata": {
            "tags": []
          }
        }
      ]
    }
  ]
}