{
  "nbformat": 4,
  "nbformat_minor": 5,
  "metadata": {
    "kernelspec": {
      "display_name": "conda_pytorch_latest_p36",
      "language": "python",
      "name": "conda_pytorch_latest_p36"
    },
    "language_info": {
      "codemirror_mode": {
        "name": "ipython",
        "version": 3
      },
      "file_extension": ".py",
      "mimetype": "text/x-python",
      "name": "python",
      "nbconvert_exporter": "python",
      "pygments_lexer": "ipython3",
      "version": "3.6.13"
    },
    "colab": {
      "name": "train.ipynb",
      "provenance": [],
      "collapsed_sections": [],
      "include_colab_link": true
    },
    "accelerator": "GPU"
  },
  "cells": [
    {
      "cell_type": "markdown",
      "metadata": {
        "id": "view-in-github",
        "colab_type": "text"
      },
      "source": [
        "<a href=\"https://colab.research.google.com/github/jmhuer/shift_invariant_dictionary_learning/blob/main/tcn.ipynb\" target=\"_parent\"><img src=\"https://colab.research.google.com/assets/colab-badge.svg\" alt=\"Open In Colab\"/></a>"
      ]
    },
    {
      "cell_type": "code",
      "metadata": {
        "id": "7e4589c6"
      },
      "source": [
        "from kwta import Sparsify1D_kactive \n",
        "from synthetic_data import create_synthetic_data\n",
        "from my_tests import autoencoder"
      ],
      "id": "7e4589c6",
      "execution_count": 4,
      "outputs": []
    },
    {
      "cell_type": "code",
      "metadata": {
        "colab": {
          "base_uri": "https://localhost:8080/"
        },
        "id": "5fa8ac2f",
        "outputId": "4a3e908d-fb7e-40a1-faab-53ff12bcc07e"
      },
      "source": [
        "from torch import nn\n",
        "from tcn import TemporalConvNet\n",
        "import torch.nn.functional as F\n",
        "\n",
        "import torch\n",
        "import torch.optim as optim\n",
        "torch.manual_seed(42)"
      ],
      "id": "5fa8ac2f",
      "execution_count": 5,
      "outputs": [
        {
          "output_type": "execute_result",
          "data": {
            "text/plain": [
              "<torch._C.Generator at 0x7f54bea8a210>"
            ]
          },
          "metadata": {
            "tags": []
          },
          "execution_count": 5
        }
      ]
    },
    {
      "cell_type": "code",
      "metadata": {
        "id": "32157063"
      },
      "source": [
        "import plotly.graph_objects as graph\n",
        "def plot(all_history:list, title:str, log = False):\n",
        "    \"\"\"\n",
        "    input:\n",
        "        all_history: list of dicts to plot\n",
        "    ret:\n",
        "        None: show plotly fig\n",
        "    \"\"\"\n",
        "    #symbol_sequence= ['circle-open', 'circle', 'circle-open-dot', 'square']\n",
        "    fig = graph.FigureWidget(layout = graph.Layout(title=graph.layout.Title(text=title))) \n",
        "    for i in range(len(all_history)):\n",
        "        fig.add_trace(graph.Scatter(x = all_history[i][\"x\"], \n",
        "                                    y = all_history[i][\"y\"],\n",
        "                                    name = all_history[i][\"legend\"],\n",
        "                                    mode='markers',\n",
        "                                    marker_size=5,\n",
        "                                    marker_symbol=all_history[i][\"marker_symbol\"])) \n",
        "    if log: fig.update_xaxes(type=\"log\")\n",
        "    fig.show()"
      ],
      "id": "32157063",
      "execution_count": 6,
      "outputs": []
    },
    {
      "cell_type": "code",
      "metadata": {
        "colab": {
          "base_uri": "https://localhost:8080/"
        },
        "id": "09560575",
        "outputId": "e28b9250-1a24-41c3-ef84-bc7574a734ee"
      },
      "source": [
        "synth_data = create_synthetic_data(size = 5000)\n"
      ],
      "id": "09560575",
      "execution_count": 7,
      "outputs": [
        {
          "output_type": "stream",
          "text": [
            "beat patter dictionary \n",
            "[1, 0, 0, 0, 1, 0, 0, 0, 1, 0, 0, 0, 1, 0, 0, 0, 1, 0, 0, 0, 1, 0, 0, 0, 1, 0, 0, 0, 1, 0, 0, 0, 1, 0, 0, 0, 1, 0, 0, 0]\n",
            "[1, 0, 1, 0, 1, 0, 1, 0, 1, 0, 1, 0, 1, 0, 1, 0, 1, 0, 1, 0, 1, 0, 1, 0, 1, 0, 1, 0, 1, 0, 1, 0, 1, 0, 1, 0, 1, 0, 1, 0]\n",
            "[0, 2, 0, 0, 0, 2, 0, 0, 0, 2, 0, 0, 0, 2, 0, 0, 0, 2, 0, 0, 0, 2, 0, 0, 0, 2, 0, 0, 0, 2, 0, 0, 0, 2, 0, 0, 0, 2, 0, 0]\n",
            "[0, 2, 0, 2, 0, 2, 0, 2, 0, 2, 0, 2, 0, 2, 0, 2, 0, 2, 0, 2, 0, 2, 0, 2, 0, 2, 0, 2, 0, 2, 0, 2, 0, 2, 0, 2, 0, 2, 0, 2]\n",
            "[0, 0, 3, 0, 0, 0, 3, 0, 0, 0, 3, 0, 0, 0, 3, 0, 0, 0, 3, 0, 0, 0, 3, 0, 0, 0, 3, 0, 0, 0, 3, 0, 0, 0, 3, 0, 0, 0, 3, 0] \n",
            "\n",
            "[1, 2, 0, 0, 1, 2, 0, 0, 1, 2, 0, 0, 1, 2, 0, 0, 1, 2, 0, 0, 1, 2, 0, 0, 1, 2, 0, 0, 1, 2, 0, 0, 1, 2, 0, 0, 1, 2, 0, 0]\n",
            "[1, 2, 0, 2, 1, 2, 0, 2, 1, 2, 0, 2, 1, 2, 0, 2, 1, 2, 0, 2, 1, 2, 0, 2, 1, 2, 0, 2, 1, 2, 0, 2, 1, 2, 0, 2, 1, 2, 0, 2]\n",
            "[1, 2, 1, 2, 1, 2, 1, 2, 1, 2, 1, 2, 1, 2, 1, 2, 1, 2, 1, 2, 1, 2, 1, 2, 1, 2, 1, 2, 1, 2, 1, 2, 1, 2, 1, 2, 1, 2, 1, 2]\n",
            "[1, 2, 3, 2, 1, 2, 3, 2, 1, 2, 3, 2, 1, 2, 3, 2, 1, 2, 3, 2, 1, 2, 3, 2, 1, 2, 3, 2, 1, 2, 3, 2, 1, 2, 3, 2, 1, 2, 3, 2]\n",
            "[1, 2, 1, 0, 1, 2, 1, 0, 1, 2, 1, 0, 1, 2, 1, 0, 1, 2, 1, 0, 1, 2, 1, 0, 1, 2, 1, 0, 1, 2, 1, 0, 1, 2, 1, 0, 1, 2, 1, 0] \n",
            "\n",
            "size of dataset  (5000, 400)\n",
            "Example datapoint:\n",
            "  [1 0 0 0 1 0 0 0 1 0 0 0 1 0 0 0 1 0 0 0 1 0 0 0 1 0 0 0 1 0 0 0 1 0 0 0 1\n",
            " 0 0 0 1 0 1 0 1 0 1 0 1 0 1 0 1 0 1 0 1 0 1 0 1 0 1 0 1 0 1 0 1 0 1 0 1 0\n",
            " 1 0 1 0 1 0 0 2 0 0 0 2 0 0 0 2 0 0 0 2 0 0 0 2 0 0 0 2 0 0 0 2 0 0 0 2 0\n",
            " 0 0 2 0 0 0 2 0 0 0 2 0 2 0 2 0 2 0 2 0 2 0 2 0 2 0 2 0 2 0 2 0 2 0 2 0 2\n",
            " 0 2 0 2 0 2 0 2 0 2 0 2 0 0 3 0 0 0 3 0 0 0 3 0 0 0 3 0 0 0 3 0 0 0 3 0 0\n",
            " 0 3 0 0 0 3 0 0 0 3 0 0 0 3 0 1 2 0 0 1 2 0 0 1 2 0 0 1 2 0 0 1 2 0 0 1 2\n",
            " 0 0 1 2 0 0 1 2 0 0 1 2 0 0 1 2 0 0 1 2 0 2 1 2 0 2 1 2 0 2 1 2 0 2 1 2 0\n",
            " 2 1 2 0 2 1 2 0 2 1 2 0 2 1 2 0 2 1 2 0 2 1 2 1 2 1 2 1 2 1 2 1 2 1 2 1 2\n",
            " 1 2 1 2 1 2 1 2 1 2 1 2 1 2 1 2 1 2 1 2 1 2 1 2 1 2 3 2 1 2 3 2 1 2 3 2 1\n",
            " 2 3 2 1 2 3 2 1 2 3 2 1 2 3 2 1 2 3 2 1 2 3 2 1 2 3 2 1 2 1 0 1 2 1 0 1 2\n",
            " 1 0 1 2 1 0 1 2 1 0 1 2 1 0 1 2 1 0 1 2 1 0 1 2 1 0 1 2 1 0]\n"
          ],
          "name": "stdout"
        }
      ]
    },
    {
      "cell_type": "code",
      "metadata": {
        "colab": {
          "base_uri": "https://localhost:8080/"
        },
        "id": "efa451c8",
        "outputId": "e79a71e3-c244-40be-ceaa-4fb50a0409d2"
      },
      "source": [
        "\n",
        "device = torch.device('cuda') if torch.cuda.is_available() else torch.device('cpu')\n",
        "print(\"Using device: \", device)\n",
        "\n",
        "model = autoencoder(input_size=1, output_size=400, num_channels=[1, 15, 25,1], kernel_size=10, dropout=0.2, wta_k = 5).to(device)\n",
        "inputs = torch.tensor(synth_data[:,None,:]).float().to(device)\n",
        "print(\"Input size: \", inputs.size())\n",
        "out = model(inputs)\n",
        "print(\"Output size: \", out.size(), \"\\n\")\n",
        "\n",
        "\n",
        "loss_fn = torch.nn.L1Loss().to(device)\n",
        "optimizer = optim.SGD(model.parameters(), lr=.05, weight_decay = 0.00001, momentum=0.05) ##this has weight decay just like you implemented\n",
        "epochs = 500\n",
        "history = {\"loss\": []}\n",
        "for i in range(epochs):\n",
        "  optimizer.zero_grad()\n",
        "  output = model(inputs)\n",
        "\n",
        "  #decaying WTA\n",
        "  if i % 500 == 0 and i != 0:\n",
        "      model.wta.k = max(1, model.wta.k - 1)\n",
        "      print(\"model.wta.k: \", model.wta.k)\n",
        "\n",
        "  loss = loss_fn(output, inputs)\n",
        "  loss.backward()\n",
        "  optimizer.step()\n",
        "  history[\"loss\"].append(float(loss))\n",
        "  if i % 100 == 0:\n",
        "      print(\"Epoch : {} \\t Loss : {} \\t \".format(i, round(float(loss),7)))\n",
        "      # print(\"\\nneg encoder \", float((model.encoder.weight.ravel() < 0).sum(dim=0)))\n",
        "\n",
        "\n",
        "\n",
        "\n"
      ],
      "id": "efa451c8",
      "execution_count": null,
      "outputs": [
        {
          "output_type": "stream",
          "text": [
            "Using device:  cuda\n",
            "Input size:  torch.Size([5000, 1, 400])\n",
            "Output size:  torch.Size([5000, 1, 400]) \n",
            "\n",
            "Epoch : 0 \t Loss : 0.949999 \t \n",
            "Epoch : 100 \t Loss : 0.9499988 \t \n",
            "Epoch : 200 \t Loss : 0.9499983 \t \n",
            "Epoch : 300 \t Loss : 0.9499986 \t \n"
          ],
          "name": "stdout"
        }
      ]
    },
    {
      "cell_type": "code",
      "metadata": {
        "id": "2c8d4e7e"
      },
      "source": [
        "\n",
        "recunstruct = model(torch.tensor(inputs[1:2,:,:]).float())\n",
        "# print(recunstruct.detach().numpy()[0,0,:])\n",
        "\n",
        "#perfect plot\n",
        "original_plot = {\"legend\": \"original\", \n",
        "                 \"x\": list(range(0,400)), \n",
        "                 \"y\": synth_data[0,:],\n",
        "                 \"marker_symbol\": 'line-ne-open'}\n",
        "                  \n",
        "recunstruct_plot = {\"legend\": \"reconstruct\", \n",
        "             \"x\": list(range(0,400)), \n",
        "             \"y\": recunstruct.cpu().detach().numpy()[0,0,:],\n",
        "             \"marker_symbol\": 'star'}      \n",
        "\n",
        "plot([recunstruct_plot, original_plot], \"Signal Comparison\")"
      ],
      "id": "2c8d4e7e",
      "execution_count": null,
      "outputs": []
    },
    {
      "cell_type": "code",
      "metadata": {
        "id": "c793f540"
      },
      "source": [
        "print(\"kernel size: \", model.get_kernels().cpu().size())\n",
        "kernel1 = model.get_kernels().cpu().numpy()[1].tolist()\n",
        "\n",
        "\n",
        "# kernels6_plot  = {\"legend\": \"original\", \n",
        "#                  \"x\": list(range(0,40)), \n",
        "#                  \"y\": kernel6,\n",
        "#                  \"marker_symbol\": 'triangle-up-open'}\n",
        "\n",
        "#perfect plot\n",
        "kernels1_plot  = {\"legend\": \"original\", \n",
        "                 \"x\": list(range(0,40)), \n",
        "                 \"y\": kernel1,\n",
        "                 \"marker_symbol\": 'star'}\n",
        "\n",
        "plot([kernels1_plot], \"kernels_plot\")"
      ],
      "id": "c793f540",
      "execution_count": null,
      "outputs": []
    }
  ]
}